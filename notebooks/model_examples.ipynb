{
 "cells": [
  {
   "cell_type": "markdown",
   "metadata": {},
   "source": [
    "# TripyTrek Model Examples\n",
    "\n",
    "This notebook demonstrates how to use the various AI models in the TripyTrek platform."
   ]
  },
  {
   "cell_type": "code",
   "execution_count": null,
   "metadata": {},
   "source": [
    "import sys\n",
    "import os\n",
    "\n",
    "# Add parent directory to path for imports\n",
    "sys.path.append(os.path.dirname(os.path.dirname(os.path.abspath('__file__'))))\n",
    "\n",
    "# Import required modules\n",
    "from models.summarizer import DestinationSummarizer\n",
    "from models.review_classifier import ReviewClassifier\n",
    "from models.recommendation_engine import RecommendationEngine\n",
    "from utils import load_config, setup_logging\n",
    "\n",
    "# Set up logging\n",
    "setup_logging()"
   ]
  },
  {
   "cell_type": "markdown",
   "metadata": {},
   "source": [
    "## 1. Destination Summarizer\n",
    "\n",
    "This model generates concise summaries of travel destination descriptions."
   ]
  },
  {
   "cell_type": "code",
   "execution_count": null,
   "metadata": {},
   "source": [
    "# Initialize the summarizer\n",
    "summarizer = DestinationSummarizer()\n",
    "\n",
    "# Sample destination description\n",
    "destination = \"Kyoto, Japan\"\n",
    "description = \"\"\"\n",
    "Kyoto, once the capital of Japan for more than a thousand years, is a city located in the central part of the island of Honshu. \n",
    "It is famous for its numerous classical Buddhist temples, gardens, imperial palaces, Shinto shrines and traditional wooden houses. \n",
    "The city is also known for formal traditions such as kaiseki dining, consisting of multiple courses of precise dishes, and geisha, \n",
    "female entertainers often found in the Gion district. Kyoto is surrounded by mountains on three sides, giving it a diverse climate \n",
    "and beautiful natural scenery. The city is particularly stunning during cherry blossom season in spring and the autumn foliage season. \n",
    "Unlike many other Japanese cities, Kyoto was spared from extensive destruction during World War II, allowing it to preserve its \n",
    "wealth of pre-war buildings and cultural treasures. Today, Kyoto is considered the cultural capital of Japan and a major tourist \n",
    "destination. It is home to numerous universities and many Japanese crafts and specialties, such as Kiyomizu pottery, kimono fabrics, \n",
    "and delicate Kyoto cuisine. The historic monuments of Ancient Kyoto have been listed as a UNESCO World Heritage Site, \n",
    "showcasing the city's global cultural significance.\n",
    "\"\"\"\n",
    "\n",
    "# Generate summary\n",
    "summary = summarizer.summarize(description)\n",
    "formatted_summary = summarizer.format_travel_highlight(summary, destination)\n",
    "\n",
    "print(\"Original length:\", len(description))\n",
    "print(\"Summary length:\", len(summary))\n",
    "print(\"\\nGenerated Summary:\")\n",
    "print(summary)\n",
    "print(\"\\nFormatted Highlight:\")\n",
    "print(formatted_summary)"
   ]
  },
  {
   "cell_type": "markdown",
   "metadata": {},
   "source": [
    "## 2. Review Classifier\n",
    "\n",
    "This model analyzes travel reviews and provides ratings for different aspects."
   ]
  },
  {
   "cell_type": "code",
   "execution_count": null,
   "metadata": {},
   "source": [
    "# Initialize the review classifier\n",
    "review_classifier = ReviewClassifier()\n",
    "\n",
    "# Sample review\n",
    "review_title = \"Wonderful Stay at Kyoto Garden Hotel\"\n",
    "review_text = \"\"\"\n",
    "I recently spent 5 nights at the Kyoto Garden Hotel and had an amazing experience. The location is perfect, \n",
    "just a 5-minute walk from the main train station and surrounded by many restaurants and shops. \n",
    "The facilities were modern and well-maintained, with a beautiful garden courtyard that was so peaceful. \n",
    "The room was spacious by Japanese standards and very clean. The staff were exceptionally friendly and helpful, \n",
    "providing maps and suggestions for our daily itineraries.\n",
    "\n",
    "The food at the hotel restaurant was excellent, especially the traditional Japanese breakfast which changed \n",
    "slightly each day. The only minor issue was that the WiFi was a bit slow in the evenings when everyone was back \n",
    "at the hotel. The value for money was great considering the prime location and quality of service. \n",
    "I would definitely recommend this hotel to anyone visiting Kyoto and would stay here again without hesitation.\n",
    "\"\"\"\n",
    "\n",
    "# Analyze the review\n",
    "analysis = review_classifier.analyze_review(review_text, review_title)\n",
    "\n",
    "print(f\"Overall Score: {analysis['overall_score']}/5.0\\n\")\n",
    "print(\"Category Ratings:\")\n",
    "for category, rating in analysis['category_ratings'].items():\n",
    "    print(f\"- {category.capitalize()}: {rating}/5.0\")\n",
    "\n",
    "print(\"\\nPros:\")\n",
    "for pro in analysis['pros']:\n",
    "    print(f\"✅ {pro}\")\n",
    "\n",
    "print(\"\\nCons:\")\n",
    "for con in analysis['cons']:\n",
    "    print(f\"⚠️ {con}\")\n",
    "\n",
    "print(\"\\nSummary:\")\n",
    "print(analysis['summary'])"
   ]
  },
  {
   "cell_type": "markdown",
   "metadata": {},
   "source": [
    "## 3. Recommendation Engine\n",
    "\n",
    "This model suggests travel destinations based on user interests and budget."
   ]
  },
  {
   "cell_type": "code",
   "execution_count": null,
   "metadata": {},
   "source": [
    "# Initialize the recommendation engine\n",
    "recommendation_engine = RecommendationEngine()\n",
    "\n",
    "# User preferences\n",
    "interests = [\"culture\", \"food\", \"history\"]\n",
    "budget = 100  # USD per day\n",
    "previous_destinations = [\"Tokyo, Japan\", \"Bangkok, Thailand\"]\n",
    "\n",
    "# Get recommendations\n",
    "recommendations = recommendation_engine.recommend_destinations(\n",
    "    user_interests=interests,\n",
    "    budget=budget,\n",
    "    previous_destinations=previous_destinations\n",
    ")\n",
    "\n",
    "print(f\"Recommendations for a user interested in {', '.join(interests)} with ${budget}/day budget:\\n\")\n",
    "\n",
    "for i, rec in enumerate(recommendations, 1):\n",
    "    print(f\"{i}. {rec['name']} - {int(rec['score']*100)}% Match\")\n",
    "    print(f\"   {rec['description']}\")\n",
    "    print(f\"   Budget Level: {rec['budget_level'].capitalize()} (${rec['avg_cost_per_day']}/day)\")\n",
    "    print(f\"   Budget Match: {int(rec['match_details']['budget_match']*100)}%\")\n",
    "    print(f\"   Interest Match: {int(rec['match_details']['interest_match']*100)}%\")\n",
    "    print(f\"   Categories: {', '.join(rec['categories'])}\")\n",
    "    print()"
   ]
  },
  {
   "cell_type": "markdown",
   "metadata": {},
   "source": [
    "## 4. Finding Similar Destinations\n",
    "\n",
    "This demonstrates how to find destinations similar to a given one."
   ]
  },
  {
   "cell_type": "code",
   "execution_count": null,
   "metadata": {},
   "source": [
    "# Find destinations similar to Kyoto\n",
    "similar = recommendation_engine.similar_destinations(\"Kyoto\")\n",
    "\n",
    "print(\"Destinations similar to Kyoto, Japan:\\n\")\n",
    "\n",
    "for i, dest in enumerate(similar, 1):\n",
    "    print(f\"{i}. {dest['name']} - {int(dest['similarity_score']*100)}% Similar\")\n",
    "    print(f\"   {dest['description']}\")\n",
    "    print(f\"   Budget Level: {dest['budget_level'].capitalize()}\")\n",
    "    print(f\"   Categories: {', '.join(dest['categories'])}\")\n",
    "    print()"
   ]
  }
 ],
 "metadata": {
  "kernelspec": {
   "display_name": "Python 3",
   "language": "python",
   "name": "python3"
  },
  "language_info": {
   "codemirror_mode": {
    "name": "ipython",
    "version": 3
   },
   "file_extension": ".py",
   "mimetype": "text/x-python",
   "name": "python",
   "nbconvert_exporter": "python",
   "pygments_lexer": "ipython3",
   "version": "3.8.10"
  }
 },
 "nbformat": 4,
 "nbformat_minor": 4
}

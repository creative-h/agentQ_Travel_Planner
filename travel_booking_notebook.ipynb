{
  "cells": [
    {
      "cell_type": "markdown",
      "metadata": {
        "id": "view-in-github",
        "colab_type": "text"
      },
      "source": [
        "<a href=\"https://colab.research.google.com/github/creative-h/agentQ_Travel_Planner/blob/main/travel_booking_notebook.ipynb\" target=\"_parent\"><img src=\"https://colab.research.google.com/assets/colab-badge.svg\" alt=\"Open In Colab\"/></a>"
      ]
    },
    {
      "cell_type": "markdown",
      "metadata": {
        "id": "rqpdLvXDkqdW"
      },
      "source": [
        "# Travel Package Booking Portal\n",
        "\n",
        "This notebook demonstrates how to use the travel package booking portal to search for and book travel packages that combine flights and hotels."
      ]
    },
    {
      "cell_type": "markdown",
      "metadata": {
        "id": "nh9P1_4WkqdX"
      },
      "source": [
        "## 1. Setup and Configuration\n",
        "\n",
        "First, let's install the required dependencies:"
      ]
    },
    {
      "cell_type": "code",
      "source": [],
      "metadata": {
        "id": "sq_uAixM7qqH"
      },
      "execution_count": null,
      "outputs": []
    },
    {
      "cell_type": "code",
      "source": [
        "!git clone https://github.com/creative-h/agentQ_Travel_Planner.git"
      ],
      "metadata": {
        "id": "3329CnXQpaxW"
      },
      "execution_count": null,
      "outputs": []
    },
    {
      "cell_type": "code",
      "source": [
        "!unzip agentQ_Travel_Planner/travelAgentQ.zip"
      ],
      "metadata": {
        "collapsed": true,
        "id": "IvQ8ExmIpf-9"
      },
      "execution_count": null,
      "outputs": []
    },
    {
      "cell_type": "code",
      "source": [
        "cd /content/travelAgentQ/travel_booking_portal\n"
      ],
      "metadata": {
        "colab": {
          "base_uri": "https://localhost:8080/"
        },
        "id": "i3pD47QSp3JO",
        "outputId": "7f874b44-cf1c-4521-a8c2-17c3b6540678"
      },
      "execution_count": 1,
      "outputs": [
        {
          "output_type": "stream",
          "name": "stdout",
          "text": [
            "/content/travelAgentQ/travel_booking_portal\n"
          ]
        }
      ]
    },
    {
      "cell_type": "code",
      "execution_count": null,
      "metadata": {
        "collapsed": true,
        "id": "yjwQnbUakqdX"
      },
      "outputs": [],
      "source": [
        "!pip install \"httpx<0.28\"\n",
        "!pip install -r requirements.txt"
      ]
    },
    {
      "cell_type": "markdown",
      "metadata": {
        "id": "Ei9UaAIbkqdY"
      },
      "source": [
        "Now, let's set up our API credentials. You'll need to obtain API keys for:\n",
        "- Amadeus (for flight and hotel data): https://developers.amadeus.com/\n",
        "- Groq (for AI-powered recommendations): https://console.groq.com/"
      ]
    },
    {
      "cell_type": "code",
      "execution_count": 2,
      "metadata": {
        "id": "tXX0mAMEkqdY"
      },
      "outputs": [],
      "source": [
        "import os\n",
        "import sys\n",
        "import logging\n",
        "\n",
        "# Add parent directory to path to import modules\n",
        "sys.path.append('..')\n",
        "\n",
        "# Set up API credentials\n",
        "os.environ['AMADEUS_API_KEY'] = \"bsknoiobYmGP9Ur47t6bGwFDUMihUtnH\"  # Replace with your actual API key\n",
        "os.environ['AMADEUS_API_SECRET'] = \"4YN13VQCc0ti4X8I\"  # Replace with your actual API secret\n",
        "os.environ['GROQ_API_KEY'] = \"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\"  # Replace with your actual API key\n",
        "os.environ['GROQ_MODEL'] = \"llama-3.3-70b-versatile\"  # You can change this to a different model if needed\n",
        "\n",
        "# Set up logging\n",
        "logging.basicConfig(level=logging.INFO)\n",
        "logger = logging.getLogger('notebook')"
      ]
    },
    {
      "cell_type": "markdown",
      "metadata": {
        "id": "XFwPAdR3kqdY"
      },
      "source": [
        "## 2. Initialize APIs and Agent\n",
        "\n",
        "Now, let's initialize the APIs and agent for our travel booking portal:"
      ]
    },
    {
      "cell_type": "code",
      "execution_count": 3,
      "metadata": {
        "colab": {
          "base_uri": "https://localhost:8080/"
        },
        "id": "b50cJjS0kqdY",
        "outputId": "a6df408e-1c6d-4a54-d7fc-0d314ee9ad5d"
      },
      "outputs": [
        {
          "output_type": "stream",
          "name": "stdout",
          "text": [
            "APIs and agent initialized successfully!\n"
          ]
        }
      ],
      "source": [
        "from utils import Config, TravelAgent, DataProcessor\n",
        "from api import FlightAPI, HotelAPI, PackageAPI\n",
        "\n",
        "# Load configuration\n",
        "config = Config()\n",
        "if not config.validate():\n",
        "    logger.error(\"Invalid configuration. Please check your API credentials.\")\n",
        "    raise ValueError(\"Invalid configuration\")\n",
        "\n",
        "# Initialize APIs\n",
        "amadeus_credentials = config.get_amadeus_credentials()\n",
        "flight_api = FlightAPI(amadeus_credentials['api_key'], amadeus_credentials['api_secret'])\n",
        "hotel_api = HotelAPI(amadeus_credentials['api_key'], amadeus_credentials['api_secret'])\n",
        "package_api = PackageAPI(flight_api, hotel_api)\n",
        "\n",
        "# Initialize agent\n",
        "groq_credentials = config.get_groq_credentials()\n",
        "travel_agent = TravelAgent(groq_credentials['api_key'], groq_credentials['model'])\n",
        "\n",
        "# Initialize data processor\n",
        "data_processor = DataProcessor()\n",
        "\n",
        "print(\"APIs and agent initialized successfully!\")"
      ]
    },
    {
      "cell_type": "markdown",
      "metadata": {
        "id": "pNty_fsKkqdY"
      },
      "source": [
        "## 3. Natural Language Query Processing\n",
        "\n",
        "Let's use the travel agent to process a natural language query and extract travel criteria:"
      ]
    },
    {
      "cell_type": "code",
      "execution_count": 4,
      "metadata": {
        "colab": {
          "base_uri": "https://localhost:8080/"
        },
        "id": "jteT202ykqdY",
        "outputId": "b442b59b-a14c-4ebb-e53a-b7edfda64a83"
      },
      "outputs": [
        {
          "output_type": "stream",
          "name": "stdout",
          "text": [
            "{\n",
            "  \"origin_location\": \"New York\",\n",
            "  \"destinations\": [\n",
            "    \"Paris\"\n",
            "  ],\n",
            "  \"departure_date\": \"July\",\n",
            "  \"return_date\": \"July\",\n",
            "  \"adults\": 2,\n",
            "  \"children\": 1,\n",
            "  \"infants\": 0,\n",
            "  \"travel_class\": null,\n",
            "  \"budget\": null,\n",
            "  \"preferences\": null,\n",
            "  \"multi_destination\": false\n",
            "}\n"
          ]
        }
      ],
      "source": [
        "# Example natural language query\n",
        "query = \"I want to travel from New York to Paris for a week in July with my family (2 adults, 1 child)\"\n",
        "\n",
        "# Extract travel criteria\n",
        "criteria = travel_agent.extract_travel_criteria(query)\n",
        "\n",
        "# Display extracted criteria\n",
        "import json\n",
        "print(json.dumps(criteria, indent=2))"
      ]
    },
    {
      "cell_type": "markdown",
      "metadata": {
        "id": "YVGOhwaCkqdY"
      },
      "source": [
        "## 4. Search for Flights\n",
        "\n",
        "Now, let's search for flights based on the extracted criteria:"
      ]
    },
    {
      "cell_type": "code",
      "execution_count": 5,
      "metadata": {
        "colab": {
          "base_uri": "https://localhost:8080/"
        },
        "id": "Rkg0DDsnkqdY",
        "outputId": "63eaec41-c148-486e-ada1-ac565be1342a"
      },
      "outputs": [
        {
          "output_type": "stream",
          "name": "stdout",
          "text": [
            "Searching for flights from New York to Paris on July returning July...\n"
          ]
        },
        {
          "output_type": "stream",
          "name": "stderr",
          "text": [
            "ERROR:flight_api:Error searching flights: [400]\n",
            "\n",
            "\n",
            "\n",
            "\n",
            "ERROR:flight_api:Error code: ClientError\n",
            "ERROR:flight_api:Error message: <bound method ResponseError.description of ClientError('[400]\\n\\n\\n\\n')>\n",
            "ERROR:flight_api:Full error response: {\"errors\":[{\"status\":400,\"code\":477,\"title\":\"INVALID FORMAT\",\"detail\":\"departureDate format is YYYY-MM-DD\",\"source\":{\"pointer\":\"departureDate\",\"example\":\"2030-12-31\"}},{\"status\":400,\"code\":477,\"title\":\"INVALID FORMAT\",\"detail\":\"destinationLocationCode must be a 3-letter code\",\"source\":{\"pointer\":\"destinationLocationCode\",\"example\":\"LON\"}},{\"status\":400,\"code\":477,\"title\":\"INVALID FORMAT\",\"detail\":\"originLocationCode must be a 3-letter code\",\"source\":{\"pointer\":\"originLocationCode\",\"example\":\"PAR\"}},{\"status\":400,\"code\":477,\"title\":\"INVALID FORMAT\",\"detail\":\"returnDate format is YYYY-MM-DD\",\"source\":{\"pointer\":\"returnDate\",\"example\":\"2030-12-31\"}}]}\n"
          ]
        },
        {
          "output_type": "stream",
          "name": "stdout",
          "text": [
            "Found 0 flight offers\n"
          ]
        }
      ],
      "source": [
        "# Set up search parameters\n",
        "origin = criteria.get('origin_location', 'NYC')  # Default to NYC if not extracted\n",
        "destination = criteria.get('destinations', 'PAR')  # Default to Paris if not extracted\n",
        "if isinstance(destination, list):\n",
        "    destination = destination[0]  # Take the first destination if multiple are extracted\n",
        "\n",
        "# Set dates (default to next month if not extracted)\n",
        "from datetime import datetime, timedelta\n",
        "default_departure = (datetime.now() + timedelta(days=30)).strftime('%Y-%m-%d')\n",
        "default_return = (datetime.now() + timedelta(days=37)).strftime('%Y-%m-%d')\n",
        "departure_date = criteria.get('departure_date', default_departure)\n",
        "return_date = criteria.get('return_date', default_return)\n",
        "\n",
        "# Set passenger counts\n",
        "adults = criteria.get('adults', 2)\n",
        "children = criteria.get('children', 1)\n",
        "\n",
        "# Set travel class\n",
        "travel_class = criteria.get('travel_class', 'ECONOMY')\n",
        "\n",
        "# Search for flights\n",
        "print(f\"Searching for flights from {origin} to {destination} on {departure_date} returning {return_date}...\")\n",
        "flight_offers = flight_api.search_flights(\n",
        "    origin_location_code=origin,\n",
        "    destination_location_code=destination,\n",
        "    departure_date=departure_date,\n",
        "    return_date=return_date,\n",
        "    adults=adults,\n",
        "    children=children,\n",
        "    travel_class=travel_class,\n",
        "    currency_code=\"USD\",\n",
        "    max_results=5\n",
        ")\n",
        "\n",
        "# Display flight offers\n",
        "print(f\"Found {len(flight_offers)} flight offers\")\n",
        "if flight_offers:\n",
        "    # Parse flight data into a DataFrame\n",
        "    flights_df = data_processor.parse_flight_data(flight_offers)\n",
        "    flights_df.head()"
      ]
    },
    {
      "cell_type": "code",
      "source": [
        "from datetime import datetime, timedelta\n",
        "import re\n",
        "\n",
        "# Helper: Convert month name + duration to real dates\n",
        "def infer_dates(departure_text: str = None, trip_duration: int = 7):\n",
        "    try:\n",
        "        if departure_text and re.match(r'^[A-Za-z]+$', departure_text.strip()):\n",
        "            month_number = datetime.strptime(departure_text.strip(), \"%B\").month\n",
        "            today = datetime.today()\n",
        "            year = today.year if today.month <= month_number else today.year + 1\n",
        "            departure = datetime(year, month_number, 10)  # default to 10th\n",
        "            return departure.strftime('%Y-%m-%d'), (departure + timedelta(days=trip_duration)).strftime('%Y-%m-%d')\n",
        "    except Exception:\n",
        "        pass\n",
        "    # Fallback to next month\n",
        "    default_departure = datetime.now() + timedelta(days=30)\n",
        "    default_return = default_departure + timedelta(days=trip_duration)\n",
        "    return default_departure.strftime('%Y-%m-%d'), default_return.strftime('%Y-%m-%d')\n",
        "\n",
        "\n",
        "# Set up search parameters\n",
        "origin_city = criteria.get('origin_location', 'NYC')\n",
        "destination_city = criteria.get('destinations', ['PAR'])\n",
        "if isinstance(destination_city, list):\n",
        "    destination_city = destination_city[0]\n",
        "\n",
        "# Map to IATA codes (add more as needed)\n",
        "iata_map = {\n",
        "    'New York': 'NYC',\n",
        "    'Paris': 'PAR',\n",
        "    'London': 'LON',\n",
        "    'Tokyo': 'TYO'\n",
        "}\n",
        "origin = iata_map.get(origin_city, origin_city[:3].upper())\n",
        "destination = iata_map.get(destination_city, destination_city[:3].upper())\n",
        "\n",
        "from datetime import datetime, timedelta\n",
        "import re\n",
        "\n",
        "def normalize_date(value, default_date):\n",
        "    # If value is already a valid date string\n",
        "    try:\n",
        "        datetime.strptime(value, '%Y-%m-%d')\n",
        "        return value\n",
        "    except:\n",
        "        pass\n",
        "    # If value is a month name like \"July\"\n",
        "    try:\n",
        "        if re.match(r'^[A-Za-z]+$', value.strip()):\n",
        "            month_number = datetime.strptime(value.strip(), \"%B\").month\n",
        "            today = datetime.today()\n",
        "            year = today.year if today.month <= month_number else today.year + 1\n",
        "            date_obj = datetime(year, month_number, 10)  # Use 10th as default day\n",
        "            return date_obj.strftime('%Y-%m-%d')\n",
        "    except:\n",
        "        pass\n",
        "    # Fallback to default\n",
        "    return default_date\n",
        "\n",
        "# Default dates\n",
        "default_departure = (datetime.now() + timedelta(days=30)).strftime('%Y-%m-%d')\n",
        "default_return = (datetime.now() + timedelta(days=37)).strftime('%Y-%m-%d')\n",
        "\n",
        "# Get from criteria or default\n",
        "raw_departure = criteria.get('departure_date', default_departure)\n",
        "raw_return = criteria.get('return_date', default_return)\n",
        "\n",
        "# Normalize dates\n",
        "departure_date = normalize_date(raw_departure, default_departure)\n",
        "return_date = normalize_date(raw_return, default_return)\n",
        "\n",
        "# Passenger info\n",
        "adults = criteria.get('adults', 2)\n",
        "children = criteria.get('children', 1)\n",
        "\n",
        "# Class\n",
        "travel_class = criteria.get('travel_class', 'ECONOMY')\n",
        "\n",
        "# Call flight API\n",
        "print(f\"Searching for flights from {origin} to {destination} on {departure_date} returning {return_date}...\")\n",
        "flight_offers = flight_api.search_flights(\n",
        "    origin_location_code=origin,\n",
        "    destination_location_code=destination,\n",
        "    departure_date=departure_date,\n",
        "    return_date=return_date,\n",
        "    adults=adults,\n",
        "    children=children,\n",
        "    travel_class=travel_class,\n",
        "    currency_code=\"USD\",\n",
        "    max_results=5\n",
        ")\n",
        "\n",
        "# Output\n",
        "print(f\"Found {len(flight_offers)} flight offers\")\n",
        "if flight_offers:\n",
        "    flights_df = data_processor.parse_flight_data(flight_offers)\n",
        "    flights_df.head()\n",
        "\n"
      ],
      "metadata": {
        "id": "MnECAHsdJNll",
        "outputId": "2fa95aaa-2af3-4d91-eb78-405397494e17",
        "colab": {
          "base_uri": "https://localhost:8080/"
        }
      },
      "execution_count": 9,
      "outputs": [
        {
          "output_type": "stream",
          "name": "stdout",
          "text": [
            "Searching for flights from NYC to PAR on 2025-07-10 returning 2025-07-10...\n",
            "Found 5 flight offers\n"
          ]
        }
      ]
    },
    {
      "cell_type": "markdown",
      "metadata": {
        "id": "dB2gFKYokqdZ"
      },
      "source": [
        "## 5. Search for Hotels\n",
        "\n",
        "Now, let's search for hotels at the destination:"
      ]
    },
    {
      "cell_type": "code",
      "execution_count": 10,
      "metadata": {
        "colab": {
          "base_uri": "https://localhost:8080/"
        },
        "id": "Oh8CSmqNkqdZ",
        "outputId": "5b99b7a4-c562-40b1-e87a-2677f5ce90ed"
      },
      "outputs": [
        {
          "output_type": "stream",
          "name": "stdout",
          "text": [
            "Searching for hotels in PAR from 2025-07-10 to 2025-07-10...\n"
          ]
        },
        {
          "output_type": "stream",
          "name": "stderr",
          "text": [
            "ERROR:hotel_api:Error searching for hotels: object of type 'NoneType' has no len()\n"
          ]
        },
        {
          "output_type": "stream",
          "name": "stdout",
          "text": [
            "Found 0 hotel offers\n"
          ]
        }
      ],
      "source": [
        "# Search for hotels\n",
        "print(f\"Searching for hotels in {destination} from {departure_date} to {return_date}...\")\n",
        "hotel_offers = hotel_api.search_hotels(\n",
        "    city_code=destination,\n",
        "    check_in_date=departure_date,\n",
        "    check_out_date=return_date,\n",
        "    adults=adults,\n",
        "    radius=5,\n",
        "    radius_unit=\"KM\",\n",
        "    currency=\"USD\",\n",
        "    max_results=5\n",
        ")\n",
        "\n",
        "# Display hotel offers\n",
        "print(f\"Found {len(hotel_offers)} hotel offers\")\n",
        "if hotel_offers:\n",
        "    # Parse hotel data into a DataFrame\n",
        "    hotels_df = data_processor.parse_hotel_data(hotel_offers)\n",
        "    hotels_df.head()"
      ]
    },
    {
      "cell_type": "code",
      "source": [
        "# Search for hotels\n",
        "print(f\"Searching for hotels in {destination} from {departure_date} to {return_date}...\")\n",
        "hotel_offers = hotel_api.search_hotels(\n",
        "    city_code=destination,\n",
        "    check_in_date=departure_date,\n",
        "    check_out_date=return_date,\n",
        "    adults=adults,\n",
        "    radius=5,\n",
        "    radius_unit=\"KM\",\n",
        "    currency=\"USD\",\n",
        "    max_results=5\n",
        ")\n",
        "\n",
        "# Validate response before accessing it\n",
        "if hotel_offers is None:\n",
        "    logger.error(\"Hotel API returned None. No hotel offers found.\")\n",
        "    hotel_offers = []\n",
        "else:\n",
        "    print(f\"Found {len(hotel_offers)} hotel offers\")\n",
        "\n",
        "# Display hotel offers\n",
        "if hotel_offers:\n",
        "    hotels_df = data_processor.parse_hotel_data(hotel_offers)\n",
        "    hotels_df.head()\n",
        "else:\n",
        "    print(\"No hotel offers to display.\")\n"
      ],
      "metadata": {
        "id": "hRVvaEFhK-f4",
        "outputId": "848c4ecc-9add-42a4-9173-f18aaf7878d8",
        "colab": {
          "base_uri": "https://localhost:8080/"
        }
      },
      "execution_count": 11,
      "outputs": [
        {
          "output_type": "stream",
          "name": "stdout",
          "text": [
            "Searching for hotels in PAR from 2025-07-10 to 2025-07-10...\n"
          ]
        },
        {
          "output_type": "stream",
          "name": "stderr",
          "text": [
            "ERROR:hotel_api:Error searching for hotels: object of type 'NoneType' has no len()\n"
          ]
        },
        {
          "output_type": "stream",
          "name": "stdout",
          "text": [
            "Found 0 hotel offers\n",
            "No hotel offers to display.\n"
          ]
        }
      ]
    },
    {
      "cell_type": "markdown",
      "metadata": {
        "id": "yexwmFAikqdZ"
      },
      "source": [
        "## 6. Create Travel Packages\n",
        "\n",
        "Now, let's combine flights and hotels to create travel packages:"
      ]
    },
    {
      "cell_type": "code",
      "source": [
        "from datetime import datetime, timedelta\n",
        "\n",
        "# Parse dates\n",
        "departure_date_obj = datetime.strptime(departure_date, \"%Y-%m-%d\")\n",
        "return_date_obj = datetime.strptime(return_date, \"%Y-%m-%d\")\n",
        "\n",
        "# If dates are the same or invalid, adjust return date\n",
        "if return_date_obj <= departure_date_obj:\n",
        "    return_date_obj = departure_date_obj + timedelta(days=1)\n",
        "    return_date = return_date_obj.strftime(\"%Y-%m-%d\")\n"
      ],
      "metadata": {
        "id": "-gKaBEflLeqk"
      },
      "execution_count": 13,
      "outputs": []
    },
    {
      "cell_type": "code",
      "source": [
        "try:\n",
        "    print(f\"Searching for hotels in {destination} from {departure_date} to {return_date}...\")\n",
        "    hotel_offers = hotel_api.search_hotels(\n",
        "        city_code=destination,\n",
        "        check_in_date=departure_date,\n",
        "        check_out_date=return_date,\n",
        "        adults=adults,\n",
        "        radius=5,\n",
        "        radius_unit=\"KM\",\n",
        "        currency=\"USD\",\n",
        "        max_results=5\n",
        "    )\n",
        "\n",
        "    if hotel_offers is not None:\n",
        "        print(f\"Found {len(hotel_offers)} hotel offers\")\n",
        "        if hotel_offers:\n",
        "            hotels_df = data_processor.parse_hotel_data(hotel_offers)\n",
        "            hotels_df.head()\n",
        "        else:\n",
        "            print(\"No hotel offers to display.\")\n",
        "    else:\n",
        "        print(\"Hotel API returned no results (None).\")\n",
        "except Exception as e:\n",
        "    logger.error(f\"Error searching for hotels: {e}\")\n"
      ],
      "metadata": {
        "id": "dKLHTnQDLopz",
        "outputId": "6488e16e-1d46-4bb7-c3fd-3a770abf59f5",
        "colab": {
          "base_uri": "https://localhost:8080/"
        }
      },
      "execution_count": 15,
      "outputs": [
        {
          "output_type": "stream",
          "name": "stdout",
          "text": [
            "Searching for hotels in PAR from 2025-07-10 to 2025-07-11...\n"
          ]
        },
        {
          "output_type": "stream",
          "name": "stderr",
          "text": [
            "ERROR:hotel_api:Error searching for hotels: object of type 'NoneType' has no len()\n"
          ]
        },
        {
          "output_type": "stream",
          "name": "stdout",
          "text": [
            "Found 0 hotel offers\n",
            "No hotel offers to display.\n"
          ]
        }
      ]
    },
    {
      "cell_type": "code",
      "execution_count": 14,
      "metadata": {
        "colab": {
          "base_uri": "https://localhost:8080/"
        },
        "id": "TjI6VjBakqdZ",
        "outputId": "4a6977e1-7b0c-4493-93db-916fadc59f8e"
      },
      "outputs": [
        {
          "output_type": "stream",
          "name": "stdout",
          "text": [
            "Creating travel packages...\n"
          ]
        },
        {
          "output_type": "stream",
          "name": "stderr",
          "text": [
            "ERROR:hotel_api:Error searching for hotels: object of type 'NoneType' has no len()\n",
            "WARNING:package_api:No hotel offers found for the specified criteria\n"
          ]
        },
        {
          "output_type": "stream",
          "name": "stdout",
          "text": [
            "Created 0 travel packages\n"
          ]
        }
      ],
      "source": [
        "# Create travel packages\n",
        "print(\"Creating travel packages...\")\n",
        "packages = package_api.create_single_destination_package(\n",
        "    origin_location_code=origin,\n",
        "    destination_location_code=destination,\n",
        "    departure_date=departure_date,\n",
        "    return_date=return_date,\n",
        "    adults=adults,\n",
        "    children=children,\n",
        "    travel_class=travel_class,\n",
        "    currency_code=\"USD\",\n",
        "    max_flight_results=5,\n",
        "    max_hotel_results=5\n",
        ")\n",
        "\n",
        "# Display packages\n",
        "print(f\"Created {len(packages)} travel packages\")\n",
        "if packages:\n",
        "    # Parse package data into a DataFrame\n",
        "    packages_df = data_processor.parse_package_data(packages)\n",
        "    packages_df.head()"
      ]
    },
    {
      "cell_type": "markdown",
      "metadata": {
        "id": "De4-DIA-kqdZ"
      },
      "source": [
        "## 7. Get AI-Powered Recommendations\n",
        "\n",
        "Now, let's use the travel agent to generate personalized recommendations based on the available packages:"
      ]
    },
    {
      "cell_type": "code",
      "execution_count": null,
      "metadata": {
        "id": "wn1fWA25kqdZ"
      },
      "outputs": [],
      "source": [
        "# Generate recommendations\n",
        "if packages:\n",
        "    print(\"Generating recommendations...\")\n",
        "    recommendations = travel_agent.generate_travel_recommendations(packages[:3], criteria)\n",
        "    print(\"\\nRecommendations:\")\n",
        "    print(recommendations)"
      ]
    },
    {
      "cell_type": "markdown",
      "metadata": {
        "id": "FQ8zwcLVkqdZ"
      },
      "source": [
        "## 8. View Package Details\n",
        "\n",
        "Let's view the details of a specific package:"
      ]
    },
    {
      "cell_type": "code",
      "execution_count": null,
      "metadata": {
        "id": "HPhssnjNkqdZ"
      },
      "outputs": [],
      "source": [
        "# View package details\n",
        "if packages:\n",
        "    package_id = 0  # View the first package\n",
        "    print(f\"Viewing details for package {package_id}...\")\n",
        "    package_details = travel_agent.format_package_details(packages[package_id], detailed=True)\n",
        "    print(\"\\nPackage Details:\")\n",
        "    print(package_details)"
      ]
    },
    {
      "cell_type": "markdown",
      "metadata": {
        "id": "odzpIf6KkqdZ"
      },
      "source": [
        "## 9. Ask Travel-Related Questions\n",
        "\n",
        "Finally, let's ask the travel agent some questions:"
      ]
    },
    {
      "cell_type": "code",
      "execution_count": null,
      "metadata": {
        "colab": {
          "base_uri": "https://localhost:8080/"
        },
        "id": "OD-7WtT1kqdZ",
        "outputId": "841973e8-c67c-4d54-84cc-091a618984cc"
      },
      "outputs": [
        {
          "output_type": "stream",
          "name": "stdout",
          "text": [
            "Question: What's the best time to visit Paris?\n",
            "\n",
            "Answer:\n",
            "The best time to visit Paris is during the spring (April-May) and autumn (September-October), when the weather is mild and pleasant, with average temperatures ranging from 15°C to 25°C (59°F to 77°F). These periods offer a great balance of comfortable weather and smaller crowds, making it ideal for exploring the city's famous landmarks and attractions.\n"
          ]
        }
      ],
      "source": [
        "# Ask a question\n",
        "question = \"What's the best time to visit Paris?\"\n",
        "print(f\"Question: {question}\")\n",
        "\n",
        "# Prepare context with current search results and criteria\n",
        "context = {\n",
        "    'current_criteria': criteria,\n",
        "    'has_search_results': len(packages) > 0,\n",
        "    'number_of_packages': len(packages) if packages else 0,\n",
        "    'price_range': {\n",
        "        'min': min([p['total_price'] for p in packages]) if packages else None,\n",
        "        'max': max([p['total_price'] for p in packages]) if packages else None,\n",
        "        'currency': packages[0]['currency'] if packages else None\n",
        "    }\n",
        "}\n",
        "\n",
        "# Get answer from agent\n",
        "answer = travel_agent.answer_travel_question(question, context)\n",
        "print(\"\\nAnswer:\")\n",
        "print(answer)"
      ]
    },
    {
      "cell_type": "markdown",
      "metadata": {
        "id": "ccYd4BZdkqdZ"
      },
      "source": [
        "## 10. Launch Gradio Web Interface\n",
        "\n",
        "If you want to use the web interface instead of the notebook, you can launch the Gradio app:"
      ]
    },
    {
      "cell_type": "code",
      "execution_count": 13,
      "metadata": {
        "colab": {
          "base_uri": "https://localhost:8080/",
          "height": 646
        },
        "id": "yriD0nY3kqdZ",
        "outputId": "40239fcc-7252-4564-811b-46d82c656032"
      },
      "outputs": [
        {
          "output_type": "stream",
          "name": "stdout",
          "text": [
            "Rerunning server... use `close()` to stop if you need to change `launch()` parameters.\n",
            "----\n",
            "Colab notebook detected. To show errors in colab notebook, set debug=True in launch()\n",
            "Running on public URL: https://1ef62858c470233fdd.gradio.live\n",
            "\n",
            "This share link expires in 72 hours. For free permanent hosting and GPU upgrades, run `gradio deploy` from Terminal to deploy to Spaces (https://huggingface.co/spaces)\n"
          ]
        },
        {
          "output_type": "display_data",
          "data": {
            "text/plain": [
              "<IPython.core.display.HTML object>"
            ],
            "text/html": [
              "<div><iframe src=\"https://1ef62858c470233fdd.gradio.live\" width=\"100%\" height=\"500\" allow=\"autoplay; camera; microphone; clipboard-read; clipboard-write;\" frameborder=\"0\" allowfullscreen></iframe></div>"
            ]
          },
          "metadata": {}
        },
        {
          "output_type": "execute_result",
          "data": {
            "text/plain": []
          },
          "metadata": {},
          "execution_count": 13
        }
      ],
      "source": [
        "from frontend.app import app as gradio_app\n",
        "\n",
        "# Launch the app with sharing enabled\n",
        "gradio_app.launch(share=True)"
      ]
    },
    {
      "cell_type": "code",
      "source": [
        "error\n",
        "Connection errored out."
      ],
      "metadata": {
        "id": "Y25zIMmq45lo"
      },
      "execution_count": null,
      "outputs": []
    },
    {
      "cell_type": "code",
      "source": [
        "\"\"\"\n",
        "Hotel API Module - Handles interactions with hotel booking APIs\n",
        "\"\"\"\n",
        "import logging\n",
        "from datetime import datetime\n",
        "from amadeus import Client, ResponseError\n",
        "from typing import Dict, List, Optional, Any, Union\n",
        "\n",
        "# Set up logging\n",
        "logging.basicConfig(level=logging.INFO)\n",
        "logger = logging.getLogger('hotel_api')\n",
        "\n",
        "class HotelAPI:\n",
        "    \"\"\"\n",
        "    Hotel API class to handle interactions with Amadeus hotel booking API\n",
        "    \"\"\"\n",
        "    def __init__(self, api_key: str, api_secret: str):\n",
        "        \"\"\"\n",
        "        Initialize HotelAPI with Amadeus credentials\n",
        "\n",
        "        Args:\n",
        "            api_key: Amadeus API key\n",
        "            api_secret: Amadeus API secret\n",
        "        \"\"\"\n",
        "        self.api_key = api_key\n",
        "        self.api_secret = api_secret\n",
        "        self.client = Client(\n",
        "            client_id=api_key,\n",
        "            client_secret=api_secret\n",
        "        )\n",
        "        logger.info(\"HotelAPI initialized with Amadeus client\")\n",
        "\n",
        "    # def search_hotels(self,\n",
        "    #                  city_code: str,\n",
        "    #                  check_in_date: str,\n",
        "    #                  check_out_date: str,\n",
        "    #                  adults: int = 1,\n",
        "    #                  radius: int = 5,\n",
        "    #                  radius_unit: str = \"KM\",\n",
        "    #                  hotel_name: Optional[str] = None,\n",
        "    #                  chains: Optional[List[str]] = None,\n",
        "    #                  ratings: Optional[List[str]] = None,\n",
        "    #                  amenities: Optional[List[str]] = None,\n",
        "    #                  price_range: Optional[str] = None,\n",
        "    #                  currency: Optional[str] = None,\n",
        "    #                  lang: str = \"EN\",\n",
        "    #                  max_results: int = 10) -> List[Dict[str, Any]]:\n",
        "    #     \"\"\"\n",
        "    #     Search for hotels using Amadeus API\n",
        "\n",
        "    #     Args:\n",
        "    #         city_code: IATA city code\n",
        "    #         check_in_date: Check-in date in YYYY-MM-DD format\n",
        "    #         check_out_date: Check-out date in YYYY-MM-DD format\n",
        "    #         adults: Number of adults\n",
        "    #         radius: Radius around the city center in kilometers\n",
        "    #         radius_unit: Unit of radius (KM or MILE)\n",
        "    #         hotel_name: Name of the hotel (optional)\n",
        "    #         chains: List of hotel chain codes (optional)\n",
        "    #         ratings: List of hotel ratings (optional)\n",
        "    #         amenities: List of amenity codes (optional)\n",
        "    #         price_range: Price range in format min-max (optional)\n",
        "    #         currency: Currency code (optional)\n",
        "    #         lang: Language code\n",
        "    #         max_results: Maximum number of results to return\n",
        "\n",
        "    #     Returns:\n",
        "    #         List of hotel offers\n",
        "    #     \"\"\"\n",
        "    #     # Set up parameters for the request\n",
        "    #     params = {\n",
        "    #         'cityCode': city_code,\n",
        "    #         'checkInDate': check_in_date,\n",
        "    #         'checkOutDate': check_out_date,\n",
        "    #         'adults': adults,\n",
        "    #         'radius': radius,\n",
        "    #         'radiusUnit': radius_unit,\n",
        "    #         'hotelName': hotel_name,\n",
        "    #         'chainCodes': chains,\n",
        "    #         'ratings': ratings,\n",
        "    #         'amenities': amenities,\n",
        "    #         'priceRange': price_range,\n",
        "    #         'currency': currency,\n",
        "    #         'lang': lang,\n",
        "    #         'max': max_results\n",
        "    #     }\n",
        "\n",
        "    #     # Remove None values\n",
        "    #     params = {k: v for k, v in params.items() if v is not None}\n",
        "    #     logger.info(f\"Searching hotels with parameters: {params}\")\n",
        "\n",
        "    #     try:\n",
        "    #         response = self.client.shopping.hotel_offers.get(**params)\n",
        "    #         logger.info(f\"Found {len(response.data)} hotel offers\")\n",
        "    #         return response.data\n",
        "    #     except ResponseError as error:\n",
        "    #         logger.error(f\"Error searching hotels: {error}\")\n",
        "    #         logger.error(f\"Error code: {error.code}\")\n",
        "    #         logger.error(f\"Error message: {error.description}\")\n",
        "    #         if hasattr(error, 'response'):\n",
        "    #             logger.error(f\"Full error response: {error.response.body}\")\n",
        "    #         return []\n",
        "    # Assuming the HotelAPI class is in api/hotel_api.py\n",
        "# Open the file and modify the search_hotels method as follows:\n",
        "\n",
        "    def search_hotels(self, city_code, check_in_date, check_out_date, adults, radius, radius_unit,\n",
        "                      hotel_name=None, chains=None, ratings=None, amenities=None, price_range=None,\n",
        "                      currency=\"USD\", lang=\"en-US\", max_results=10):\n",
        "        \"\"\"\n",
        "        Searches for hotel offers.\n",
        "\n",
        "        Args:\n",
        "            city_code (str): The IATA city code of the destination.\n",
        "            check_in_date (str): The check-in date (YYYY-MM-DD).\n",
        "            check_out_date (str): The check-out date (YYYY-MM-DD).\n",
        "            adults (int): The number of adults.\n",
        "            radius (int): The search radius.\n",
        "            radius_unit (str): The unit of the radius (KM or MILE).\n",
        "            hotel_name (str, optional): Search by hotel name. Defaults to None.\n",
        "            chains (str, optional): Filter by hotel chains (comma-separated). Defaults to None.\n",
        "            ratings (str, optional): Filter by star ratings (comma-separated). Defaults to None.\n",
        "            amenities (str, optional): Filter by amenities (comma-separated). Defaults to None.\n",
        "            price_range (str, optional): Filter by price range (e.g., '100-500'). Defaults to None.\n",
        "            currency (str, optional): The currency for prices. Defaults to \"USD\".\n",
        "            lang (str, optional): The language for results. Defaults to \"en-US\".\n",
        "            max_results (int, optional): The maximum number of results to return. Defaults to 10.\n",
        "\n",
        "        Returns:\n",
        "            list: A list of hotel offers.\n",
        "        \"\"\"\n",
        "        params = {\n",
        "            'cityCode': city_code,\n",
        "            'checkInDate': check_in_date,\n",
        "            'checkOutDate': check_out_date,\n",
        "            'adults': adults,\n",
        "            'radius': radius,\n",
        "            'radiusUnit': radius_unit,\n",
        "            'currency': currency,\n",
        "            'lang': lang,\n",
        "            'pageSize': max_results  # Use pageSize for max results\n",
        "        }\n",
        "\n",
        "        if hotel_name:\n",
        "            params['hotelName'] = hotel_name\n",
        "        if chains:\n",
        "            params['chains'] = chains\n",
        "        if ratings:\n",
        "            params['ratings'] = ratings\n",
        "        if amenities:\n",
        "            params['amenities'] = amenities\n",
        "        if price_range:\n",
        "            params['priceRange'] = price_range\n",
        "\n",
        "        try:\n",
        "            # Modify this line to directly use the client's get method\n",
        "            response = self.client.get('/v1/shopping/hotel-offers', **params)\n",
        "            logger.info(f\"Found {len(response.data)} hotel offers\")\n",
        "            return response.data\n",
        "        except Exception as e:\n",
        "            logger.error(f\"Error searching for hotels: {e}\")\n",
        "            return []\n",
        "    def search_hotel_by_geocode(self,\n",
        "                              latitude: float,\n",
        "                              longitude: float,\n",
        "                              check_in_date: str,\n",
        "                              check_out_date: str,\n",
        "                              adults: int = 1,\n",
        "                              radius: int = 5,\n",
        "                              radius_unit: str = \"KM\",\n",
        "                              hotel_name: Optional[str] = None,\n",
        "                              chains: Optional[List[str]] = None,\n",
        "                              ratings: Optional[List[str]] = None,\n",
        "                              amenities: Optional[List[str]] = None,\n",
        "                              price_range: Optional[str] = None,\n",
        "                              currency: Optional[str] = None,\n",
        "                              lang: str = \"EN\",\n",
        "                              max_results: int = 10) -> List[Dict[str, Any]]:\n",
        "        \"\"\"\n",
        "        Search for hotels using geocode (latitude and longitude) using Amadeus API\n",
        "\n",
        "        Args:\n",
        "            latitude: Latitude of the location\n",
        "            longitude: Longitude of the location\n",
        "            check_in_date: Check-in date in YYYY-MM-DD format\n",
        "            check_out_date: Check-out date in YYYY-MM-DD format\n",
        "            adults: Number of adults\n",
        "            radius: Radius around the location in kilometers\n",
        "            radius_unit: Unit of radius (KM or MILE)\n",
        "            hotel_name: Name of the hotel (optional)\n",
        "            chains: List of hotel chain codes (optional)\n",
        "            ratings: List of hotel ratings (optional)\n",
        "            amenities: List of amenity codes (optional)\n",
        "            price_range: Price range in format min-max (optional)\n",
        "            currency: Currency code (optional)\n",
        "            lang: Language code\n",
        "            max_results: Maximum number of results to return\n",
        "\n",
        "        Returns:\n",
        "            List of hotel offers\n",
        "        \"\"\"\n",
        "        # Set up parameters for the request\n",
        "        params = {\n",
        "            'latitude': latitude,\n",
        "            'longitude': longitude,\n",
        "            'checkInDate': check_in_date,\n",
        "            'checkOutDate': check_out_date,\n",
        "            'adults': adults,\n",
        "            'radius': radius,\n",
        "            'radiusUnit': radius_unit,\n",
        "            'hotelName': hotel_name,\n",
        "            'chainCodes': chains,\n",
        "            'ratings': ratings,\n",
        "            'amenities': amenities,\n",
        "            'priceRange': price_range,\n",
        "            'currency': currency,\n",
        "            'lang': lang,\n",
        "            'max': max_results\n",
        "        }\n",
        "\n",
        "        # Remove None values\n",
        "        params = {k: v for k, v in params.items() if v is not None}\n",
        "        logger.info(f\"Searching hotels by geocode with parameters: {params}\")\n",
        "\n",
        "        try:\n",
        "            response = self.client.shopping.hotel_offers_by_hotel.get(**params)\n",
        "            logger.info(f\"Found {len(response.data)} hotel offers\")\n",
        "            return response.data\n",
        "        except ResponseError as error:\n",
        "            logger.error(f\"Error searching hotels by geocode: {error}\")\n",
        "            logger.error(f\"Error code: {error.code}\")\n",
        "            logger.error(f\"Error message: {error.description}\")\n",
        "            if hasattr(error, 'response'):\n",
        "                logger.error(f\"Full error response: {error.response.body}\")\n",
        "            return []\n",
        "\n",
        "    def get_hotel_offer(self, offer_id: str) -> Dict[str, Any]:\n",
        "        \"\"\"\n",
        "        Get details of a specific hotel offer\n",
        "\n",
        "        Args:\n",
        "            offer_id: ID of the hotel offer\n",
        "\n",
        "        Returns:\n",
        "            Hotel offer details\n",
        "        \"\"\"\n",
        "        try:\n",
        "            response = self.client.shopping.hotel_offer(offer_id).get()\n",
        "            logger.info(f\"Successfully retrieved hotel offer with ID {offer_id}\")\n",
        "            return response.data\n",
        "        except ResponseError as error:\n",
        "            logger.error(f\"Error getting hotel offer: {error}\")\n",
        "            logger.error(f\"Error code: {error.code}\")\n",
        "            logger.error(f\"Error message: {error.description}\")\n",
        "            if hasattr(error, 'response'):\n",
        "                logger.error(f\"Full error response: {error.response.body}\")\n",
        "            return {}\n"
      ],
      "metadata": {
        "id": "8sKh3oiYgkQm"
      },
      "execution_count": null,
      "outputs": []
    }
  ],
  "metadata": {
    "kernelspec": {
      "display_name": "Python 3",
      "language": "python",
      "name": "python3"
    },
    "language_info": {
      "codemirror_mode": {
        "name": "ipython",
        "version": 3
      },
      "file_extension": ".py",
      "mimetype": "text/x-python",
      "name": "python",
      "nbconvert_exporter": "python",
      "pygments_lexer": "ipython3",
      "version": "3.9.18"
    },
    "colab": {
      "provenance": [],
      "include_colab_link": true
    }
  },
  "nbformat": 4,
  "nbformat_minor": 0
}
{
  "cells": [
    {
      "cell_type": "markdown",
      "metadata": {
        "id": "view-in-github",
        "colab_type": "text"
      },
      "source": [
        "<a href=\"https://colab.research.google.com/github/creative-h/agentQ_Travel_Planner/blob/main/travel_booking_notebook.ipynb\" target=\"_parent\"><img src=\"https://colab.research.google.com/assets/colab-badge.svg\" alt=\"Open In Colab\"/></a>"
      ]
    },
    {
      "cell_type": "markdown",
      "metadata": {
        "id": "rqpdLvXDkqdW"
      },
      "source": [
        "# Travel Package Booking Portal\n",
        "\n",
        "This notebook demonstrates how to use the travel package booking portal to search for and book travel packages that combine flights and hotels."
      ]
    },
    {
      "cell_type": "markdown",
      "metadata": {
        "id": "nh9P1_4WkqdX"
      },
      "source": [
        "## 1. Setup and Configuration\n",
        "\n",
        "First, let's install the required dependencies:"
      ]
    },
    {
      "cell_type": "code",
      "source": [
        "!git clone https://github.com/creative-h/agentQ_Travel_Planner.git"
      ],
      "metadata": {
        "colab": {
          "base_uri": "https://localhost:8080/"
        },
        "id": "3329CnXQpaxW",
        "outputId": "8b8dece8-ab8e-4cfa-9977-1b07de4c7dec"
      },
      "execution_count": 1,
      "outputs": [
        {
          "output_type": "stream",
          "name": "stdout",
          "text": [
            "Cloning into 'agentQ_Travel_Planner'...\n",
            "remote: Enumerating objects: 18, done.\u001b[K\n",
            "remote: Counting objects: 100% (18/18), done.\u001b[K\n",
            "remote: Compressing objects: 100% (16/16), done.\u001b[K\n",
            "remote: Total 18 (delta 6), reused 3 (delta 0), pack-reused 0 (from 0)\u001b[K\n",
            "Receiving objects: 100% (18/18), 1.47 MiB | 6.69 MiB/s, done.\n",
            "Resolving deltas: 100% (6/6), done.\n"
          ]
        }
      ]
    },
    {
      "cell_type": "code",
      "source": [
        "!unzip agentQ_Travel_Planner/travelAgentQ.zip"
      ],
      "metadata": {
        "collapsed": true,
        "colab": {
          "base_uri": "https://localhost:8080/"
        },
        "id": "IvQ8ExmIpf-9",
        "outputId": "87f8ea0f-9116-408d-9849-b199884fe057"
      },
      "execution_count": 2,
      "outputs": [
        {
          "output_type": "stream",
          "name": "stdout",
          "text": [
            "Archive:  agentQ_Travel_Planner/travelAgentQ.zip\n",
            "   creating: travelAgentQ/\n",
            "   creating: travelAgentQ/.git/\n",
            " extracting: travelAgentQ/.git/COMMIT_EDITMSG  \n",
            " extracting: travelAgentQ/.git/HEAD  \n",
            " extracting: travelAgentQ/.git/ORIG_HEAD  \n",
            "   creating: travelAgentQ/.git/branches/\n",
            "  inflating: travelAgentQ/.git/config  \n",
            "  inflating: travelAgentQ/.git/description  \n",
            "   creating: travelAgentQ/.git/hooks/\n",
            "  inflating: travelAgentQ/.git/hooks/applypatch-msg.sample  \n",
            "  inflating: travelAgentQ/.git/hooks/commit-msg.sample  \n",
            "  inflating: travelAgentQ/.git/hooks/fsmonitor-watchman.sample  \n",
            "  inflating: travelAgentQ/.git/hooks/post-update.sample  \n",
            "  inflating: travelAgentQ/.git/hooks/pre-applypatch.sample  \n",
            "  inflating: travelAgentQ/.git/hooks/pre-commit.sample  \n",
            "  inflating: travelAgentQ/.git/hooks/pre-merge-commit.sample  \n",
            "  inflating: travelAgentQ/.git/hooks/pre-push.sample  \n",
            "  inflating: travelAgentQ/.git/hooks/pre-rebase.sample  \n",
            "  inflating: travelAgentQ/.git/hooks/pre-receive.sample  \n",
            "  inflating: travelAgentQ/.git/hooks/prepare-commit-msg.sample  \n",
            "  inflating: travelAgentQ/.git/hooks/push-to-checkout.sample  \n",
            "  inflating: travelAgentQ/.git/hooks/sendemail-validate.sample  \n",
            "  inflating: travelAgentQ/.git/hooks/update.sample  \n",
            "  inflating: travelAgentQ/.git/index  \n",
            "   creating: travelAgentQ/.git/info/\n",
            "  inflating: travelAgentQ/.git/info/exclude  \n",
            "   creating: travelAgentQ/.git/logs/\n",
            "  inflating: travelAgentQ/.git/logs/HEAD  \n",
            "   creating: travelAgentQ/.git/logs/refs/\n",
            "   creating: travelAgentQ/.git/logs/refs/heads/\n",
            "  inflating: travelAgentQ/.git/logs/refs/heads/main  \n",
            "   creating: travelAgentQ/.git/logs/refs/remotes/\n",
            "   creating: travelAgentQ/.git/logs/refs/remotes/origin/\n",
            "  inflating: travelAgentQ/.git/logs/refs/remotes/origin/main  \n",
            "   creating: travelAgentQ/.git/objects/\n",
            "   creating: travelAgentQ/.git/objects/01/\n",
            " extracting: travelAgentQ/.git/objects/01/bba93c3166c3ca225c3a05d2e210680936d7ba  \n",
            "   creating: travelAgentQ/.git/objects/02/\n",
            " extracting: travelAgentQ/.git/objects/02/6659f550425e825ba67644ea2c040dcac57502  \n",
            "   creating: travelAgentQ/.git/objects/03/\n",
            " extracting: travelAgentQ/.git/objects/03/d40a7804ebdbe9327d8673c673e774fb9d50cb  \n",
            "   creating: travelAgentQ/.git/objects/04/\n",
            " extracting: travelAgentQ/.git/objects/04/3f5aaebed41ba969c38f915cb75e2d1919f54f  \n",
            " extracting: travelAgentQ/.git/objects/04/6ea228df101a38c6f4cbb9ade5c5f80262c82d  \n",
            "   creating: travelAgentQ/.git/objects/05/\n",
            " extracting: travelAgentQ/.git/objects/05/a5e240b5ebe57274fb90c2d8777ae6fb5d27ff  \n",
            "   creating: travelAgentQ/.git/objects/06/\n",
            " extracting: travelAgentQ/.git/objects/06/a82f29c3d9e8cc43fe80587d1d39c683b1ae43  \n",
            "   creating: travelAgentQ/.git/objects/07/\n",
            " extracting: travelAgentQ/.git/objects/07/5f6ac10f91831e5bf2e04e469511121eacc6ba  \n",
            "   creating: travelAgentQ/.git/objects/08/\n",
            " extracting: travelAgentQ/.git/objects/08/54d6b0d9518fb87420d1f31a8a24215cda63cb  \n",
            "   creating: travelAgentQ/.git/objects/09/\n",
            " extracting: travelAgentQ/.git/objects/09/30e42c50c526bdd620577909bca52d6dc02925  \n",
            " extracting: travelAgentQ/.git/objects/09/77caa7f96312800c60ed92de47ec89d50a77e7  \n",
            "   creating: travelAgentQ/.git/objects/15/\n",
            " extracting: travelAgentQ/.git/objects/15/1dfabfe21b91a68c37d8f3e562340b9c3c8c68  \n",
            "   creating: travelAgentQ/.git/objects/16/\n",
            " extracting: travelAgentQ/.git/objects/16/2af06d916ae0bae44b295a43d1297a4c5dd76e  \n",
            " extracting: travelAgentQ/.git/objects/16/2f9c055836f1262caad311e3bd0ab426a53df6  \n",
            " extracting: travelAgentQ/.git/objects/16/8c78e39cb1b227f1b115ccff55cecb08f69471  \n",
            "   creating: travelAgentQ/.git/objects/17/\n",
            " extracting: travelAgentQ/.git/objects/17/e231c6b65904d93732a517daada86113ade9b4  \n",
            "   creating: travelAgentQ/.git/objects/18/\n",
            " extracting: travelAgentQ/.git/objects/18/fd1ba5c3c7d5148b7c3fb91d56f8e34cb0d457  \n",
            "   creating: travelAgentQ/.git/objects/1c/\n",
            " extracting: travelAgentQ/.git/objects/1c/7ad92a6cc8b2fc881b2886eee0c08530e7e4ee  \n",
            "   creating: travelAgentQ/.git/objects/1e/\n",
            " extracting: travelAgentQ/.git/objects/1e/7c431d72f7f6c5c6c7ef02d37224ae399aefd9  \n",
            "  inflating: travelAgentQ/.git/objects/1e/9c527de6c33f4dca4624f67a9f2e56e3c6ce21  \n",
            "   creating: travelAgentQ/.git/objects/1f/\n",
            " extracting: travelAgentQ/.git/objects/1f/7e610e04adb83600a415c875380320989da3e2  \n",
            "   creating: travelAgentQ/.git/objects/20/\n",
            " extracting: travelAgentQ/.git/objects/20/a1a6d0500385de9845e52526c1b84cfc8cd70b  \n",
            "   creating: travelAgentQ/.git/objects/26/\n",
            " extracting: travelAgentQ/.git/objects/26/a53e2c6f85ea912728ebbf09ab109109884535  \n",
            "   creating: travelAgentQ/.git/objects/28/\n",
            " extracting: travelAgentQ/.git/objects/28/e60a026a09e2391f4b19376d03e6f555865e26  \n",
            "   creating: travelAgentQ/.git/objects/29/\n",
            " extracting: travelAgentQ/.git/objects/29/785cf08d82193d7d0b596049e3adc8f926b808  \n",
            "   creating: travelAgentQ/.git/objects/2a/\n",
            " extracting: travelAgentQ/.git/objects/2a/d1ad84739a0c432e8e47a1192834ead6170eeb  \n",
            "   creating: travelAgentQ/.git/objects/2c/\n",
            " extracting: travelAgentQ/.git/objects/2c/097daefbe908efe4e1a385a0fd45e8f27004fa  \n",
            "   creating: travelAgentQ/.git/objects/30/\n",
            " extracting: travelAgentQ/.git/objects/30/aac923cf397fcd4ad7a054feaae1ef5d4b4653  \n",
            "   creating: travelAgentQ/.git/objects/31/\n",
            " extracting: travelAgentQ/.git/objects/31/f976e3fa1673c7a8afda3fd296f2f9d355e5fd  \n",
            "   creating: travelAgentQ/.git/objects/33/\n",
            " extracting: travelAgentQ/.git/objects/33/ef6117733c63ea526abcf82c044243aa315e73  \n",
            "   creating: travelAgentQ/.git/objects/34/\n",
            " extracting: travelAgentQ/.git/objects/34/111a53ced3b0eca21b36102750f605a5cda863  \n",
            "   creating: travelAgentQ/.git/objects/36/\n",
            " extracting: travelAgentQ/.git/objects/36/84b535580b754ad61bc7c98b970f5b245b5169  \n",
            "   creating: travelAgentQ/.git/objects/37/\n",
            " extracting: travelAgentQ/.git/objects/37/b9f37206f827566009c7c492fc532f6e7c828a  \n",
            " extracting: travelAgentQ/.git/objects/37/e60c6b83319f33062896aa82bcea0819cbf3bc  \n",
            "   creating: travelAgentQ/.git/objects/39/\n",
            " extracting: travelAgentQ/.git/objects/39/d97b472b3f7b35d88374133ce6f6b333ac4eee  \n",
            "   creating: travelAgentQ/.git/objects/3a/\n",
            " extracting: travelAgentQ/.git/objects/3a/8478886db6d1a4ab611cfd38281f01d3c6ffa3  \n",
            " extracting: travelAgentQ/.git/objects/3a/d1e2eb67a5ee0649c37876e4ab4a449aa275cf  \n",
            "   creating: travelAgentQ/.git/objects/3b/\n",
            " extracting: travelAgentQ/.git/objects/3b/9f270585b30f05ac3b2679921670a860eb531e  \n",
            " extracting: travelAgentQ/.git/objects/3b/dc5a24107f4128788f9b7d2a7d4d7790068f0f  \n",
            "   creating: travelAgentQ/.git/objects/3c/\n",
            " extracting: travelAgentQ/.git/objects/3c/b5aa061d51b8e1ec2f7942f28abf9b4d2bdaac  \n",
            "   creating: travelAgentQ/.git/objects/3e/\n",
            " extracting: travelAgentQ/.git/objects/3e/cb2582ae56549d302c6d7916a64b6dac539398  \n",
            "   creating: travelAgentQ/.git/objects/45/\n",
            " extracting: travelAgentQ/.git/objects/45/6af82ff90586d610bd7bb94dfbf4713d20f8e3  \n",
            "   creating: travelAgentQ/.git/objects/47/\n",
            " extracting: travelAgentQ/.git/objects/47/186ce422c4158f0a3dbb947f6d4faecc64380a  \n",
            "   creating: travelAgentQ/.git/objects/4f/\n",
            " extracting: travelAgentQ/.git/objects/4f/87cf527aa79ce5d3422caf8dcbb232d38e0a7e  \n",
            "   creating: travelAgentQ/.git/objects/51/\n",
            " extracting: travelAgentQ/.git/objects/51/db3c24d347e7a743356186269d21ad8df34482  \n",
            "   creating: travelAgentQ/.git/objects/55/\n",
            " extracting: travelAgentQ/.git/objects/55/5fafc4fabc62b23a054d776d4dbf6a6540a4e9  \n",
            "   creating: travelAgentQ/.git/objects/5c/\n",
            " extracting: travelAgentQ/.git/objects/5c/63d1c37b7066ebac1835fafa76f70ba49de5df  \n",
            "   creating: travelAgentQ/.git/objects/5d/\n",
            " extracting: travelAgentQ/.git/objects/5d/f69c11b788d11b1842480624924e71a9f965a7  \n",
            "   creating: travelAgentQ/.git/objects/5f/\n",
            " extracting: travelAgentQ/.git/objects/5f/c08d62cde579751c0e0e781e9dcab1ff2da2c8  \n",
            " extracting: travelAgentQ/.git/objects/5f/e00da0d558c5aa89b6452cde3ed0760230d951  \n",
            "   creating: travelAgentQ/.git/objects/66/\n",
            " extracting: travelAgentQ/.git/objects/66/0694b1069541a6e835323d712273eb0f086035  \n",
            "   creating: travelAgentQ/.git/objects/6a/\n",
            " extracting: travelAgentQ/.git/objects/6a/408d8a28af99a3f005bd57479c5af9fd31e7e3  \n",
            "   creating: travelAgentQ/.git/objects/6f/\n",
            " extracting: travelAgentQ/.git/objects/6f/bb735e35aa9ea3dc2361eeff275ef9b958f7db  \n",
            "   creating: travelAgentQ/.git/objects/70/\n",
            " extracting: travelAgentQ/.git/objects/70/18595617637defd1342ebf99d1bd8a55c12b4e  \n",
            "   creating: travelAgentQ/.git/objects/75/\n",
            " extracting: travelAgentQ/.git/objects/75/4d67800860df6ab9e4653ac49168fd6b401469  \n",
            "   creating: travelAgentQ/.git/objects/76/\n",
            " extracting: travelAgentQ/.git/objects/76/983f1df6277b012201cfedcce07dc27facb636  \n",
            "   creating: travelAgentQ/.git/objects/77/\n",
            " extracting: travelAgentQ/.git/objects/77/c6898c5fdf91239ddb6f3c08f53b64504032b4  \n",
            "   creating: travelAgentQ/.git/objects/78/\n",
            " extracting: travelAgentQ/.git/objects/78/c3555de5b6a1576121b9245c499e109eddedf3  \n",
            "   creating: travelAgentQ/.git/objects/7a/\n",
            " extracting: travelAgentQ/.git/objects/7a/d165b6230cd6a46538260b3793daf560f9a96b  \n",
            " extracting: travelAgentQ/.git/objects/7a/dd2ed5690449c0842e7015deab8bb3b883a7c8  \n",
            "   creating: travelAgentQ/.git/objects/7e/\n",
            " extracting: travelAgentQ/.git/objects/7e/5e3307d9005308931d43bec9267aa0e590af48  \n",
            " extracting: travelAgentQ/.git/objects/7e/6d5018aa1c008529df43646d0afc4693e9cf10  \n",
            "   creating: travelAgentQ/.git/objects/80/\n",
            " extracting: travelAgentQ/.git/objects/80/42a95e64bb8f8437134ca4b9e231071b559f86  \n",
            "   creating: travelAgentQ/.git/objects/81/\n",
            " extracting: travelAgentQ/.git/objects/81/f736d1651eedccf00d87549d8835c9ddbe8822  \n",
            "   creating: travelAgentQ/.git/objects/82/\n",
            " extracting: travelAgentQ/.git/objects/82/977da41beeddfddda51e78ce3fe839d5edd7eb  \n",
            "   creating: travelAgentQ/.git/objects/83/\n",
            " extracting: travelAgentQ/.git/objects/83/a61bd6aaf162736ea9fc050607179b19d9806c  \n",
            "   creating: travelAgentQ/.git/objects/85/\n",
            " extracting: travelAgentQ/.git/objects/85/b78b60c7376644e9c5b801ed51963b92ebc6b0  \n",
            "   creating: travelAgentQ/.git/objects/8a/\n",
            " extracting: travelAgentQ/.git/objects/8a/04926c0761bc1041296b335883cf0eb3fd6fc3  \n",
            " extracting: travelAgentQ/.git/objects/8a/bd575e342e3851fe6427b90a15d3d95f4d3445  \n",
            "   creating: travelAgentQ/.git/objects/91/\n",
            " extracting: travelAgentQ/.git/objects/91/17e473caaa9af1772fc13994d40229107ae598  \n",
            " extracting: travelAgentQ/.git/objects/91/f544fced04388b39326a60008e4cb7e5e75723  \n",
            "   creating: travelAgentQ/.git/objects/93/\n",
            " extracting: travelAgentQ/.git/objects/93/065ef39a8b89a0fd88f27a9cd5693b02feb496  \n",
            " extracting: travelAgentQ/.git/objects/93/3d0e26f2113bbab4176974370b167d2e2a238c  \n",
            " extracting: travelAgentQ/.git/objects/93/8e0563a28f076e106c52700feadd6030e27399  \n",
            "   creating: travelAgentQ/.git/objects/95/\n",
            " extracting: travelAgentQ/.git/objects/95/54b78983b0f5ad874640656de131a13076aa35  \n",
            " extracting: travelAgentQ/.git/objects/95/55bcfbc851ffc939b3813be8a51083c1d958dc  \n",
            " extracting: travelAgentQ/.git/objects/95/9e73acf8c9cbba04d47dea6a38f4d2ba1d9604  \n",
            "   creating: travelAgentQ/.git/objects/9a/\n",
            " extracting: travelAgentQ/.git/objects/9a/88f896053eb1ddd3cf1333dd78eede60768372  \n",
            " extracting: travelAgentQ/.git/objects/9a/db6d4d7ff9d93a3ff986f8156c376767881b74  \n",
            "   creating: travelAgentQ/.git/objects/9c/\n",
            " extracting: travelAgentQ/.git/objects/9c/21db8795a745a51380cfb9a833e47010e45c41  \n",
            " extracting: travelAgentQ/.git/objects/9c/90dd837e34c8fe26d77444b3c4d8245bec29d9  \n",
            "   creating: travelAgentQ/.git/objects/a1/\n",
            " extracting: travelAgentQ/.git/objects/a1/6737f5d2a9d6c3e26bbacffd0e9fd34ea7a6a5  \n",
            "   creating: travelAgentQ/.git/objects/a7/\n",
            " extracting: travelAgentQ/.git/objects/a7/52d490d687ab6df370a933795ac6328c3b717d  \n",
            "   creating: travelAgentQ/.git/objects/a8/\n",
            " extracting: travelAgentQ/.git/objects/a8/50a27f46a99e4de3da01494529ee5c83106f78  \n",
            "   creating: travelAgentQ/.git/objects/ab/\n",
            " extracting: travelAgentQ/.git/objects/ab/83e821254da7bd48c461e3f1e673097a3d639b  \n",
            "   creating: travelAgentQ/.git/objects/ac/\n",
            " extracting: travelAgentQ/.git/objects/ac/deef7057bfe4fa8d387b0a7817ee8eb05f16c6  \n",
            "   creating: travelAgentQ/.git/objects/b1/\n",
            " extracting: travelAgentQ/.git/objects/b1/c14791946d34fb5805e91ccefcaac984b8793d  \n",
            "   creating: travelAgentQ/.git/objects/b2/\n",
            " extracting: travelAgentQ/.git/objects/b2/38d425f4eba58f5d052e5b341b171cee916fb0  \n",
            "   creating: travelAgentQ/.git/objects/b4/\n",
            " extracting: travelAgentQ/.git/objects/b4/a05c8f1bf0381ba9df27e75b7b9217db39ef91  \n",
            "   creating: travelAgentQ/.git/objects/b6/\n",
            " extracting: travelAgentQ/.git/objects/b6/0242b2a4830aae90b6de654555bf7041b962db  \n",
            " extracting: travelAgentQ/.git/objects/b6/88517fcb9531aebfbe8e4d58e2bbfab8303adb  \n",
            "   creating: travelAgentQ/.git/objects/b7/\n",
            " extracting: travelAgentQ/.git/objects/b7/6dcf67abe05843a0e5e53737d00f0d039faab2  \n",
            "   creating: travelAgentQ/.git/objects/bb/\n",
            " extracting: travelAgentQ/.git/objects/bb/05642aac1d1fb107bcb9d6b46dded136980aa7  \n",
            "   creating: travelAgentQ/.git/objects/bc/\n",
            " extracting: travelAgentQ/.git/objects/bc/02dee2d666ccc6169f99b95db40f1a2f7884fb  \n",
            "   creating: travelAgentQ/.git/objects/be/\n",
            " extracting: travelAgentQ/.git/objects/be/9d18ac2586d7b347793f84c51cd284b4cdcf5a  \n",
            "   creating: travelAgentQ/.git/objects/c1/\n",
            " extracting: travelAgentQ/.git/objects/c1/b880b367c0525e9d3939e4f548a7c837a4ada6  \n",
            "   creating: travelAgentQ/.git/objects/c5/\n",
            " extracting: travelAgentQ/.git/objects/c5/6e57debd9001587e5adc078d13f8f3a038fa3e  \n",
            "   creating: travelAgentQ/.git/objects/c6/\n",
            " extracting: travelAgentQ/.git/objects/c6/1a329f8380faedda90fb04c0ff9f82c2565bc9  \n",
            " extracting: travelAgentQ/.git/objects/c6/6045df35f5c467b5c3324e8d34ee27aa107b46  \n",
            " extracting: travelAgentQ/.git/objects/c6/c2ed6a668ec92d7de3f8355f1c05a8b960aade  \n",
            "   creating: travelAgentQ/.git/objects/c7/\n",
            " extracting: travelAgentQ/.git/objects/c7/97d9b216e7795ada1fb2e99076bf2db0418276  \n",
            "   creating: travelAgentQ/.git/objects/c8/\n",
            " extracting: travelAgentQ/.git/objects/c8/3915bf41b4dc7afd98a2a1f723409f9cfa9cfb  \n",
            "   creating: travelAgentQ/.git/objects/cc/\n",
            " extracting: travelAgentQ/.git/objects/cc/16a9d40a0ce6ea6b33af44affe780fa62c1997  \n",
            "   creating: travelAgentQ/.git/objects/cd/\n",
            " extracting: travelAgentQ/.git/objects/cd/f9ba2280dad60632a2e414a2a4a17cc1d5c17f  \n",
            "   creating: travelAgentQ/.git/objects/ce/\n",
            " extracting: travelAgentQ/.git/objects/ce/de5776c2cbd0ce404a5170748b4f4332ae94e4  \n",
            " extracting: travelAgentQ/.git/objects/ce/f174d3ebbe75b45edefbb38453f09780bff547  \n",
            "   creating: travelAgentQ/.git/objects/cf/\n",
            " extracting: travelAgentQ/.git/objects/cf/62f2fbf60ec6bcb251f23fa53a2a8384d044d1  \n",
            "   creating: travelAgentQ/.git/objects/d0/\n",
            " extracting: travelAgentQ/.git/objects/d0/c4ce0070f01bbe18c09aeeb8d9ed4afa9a6b60  \n",
            "   creating: travelAgentQ/.git/objects/d4/\n",
            " extracting: travelAgentQ/.git/objects/d4/37135ef6bcb6114b7c8962c0b06baff98d99f0  \n",
            "   creating: travelAgentQ/.git/objects/d6/\n",
            " extracting: travelAgentQ/.git/objects/d6/073f0ba5fca82726648b768bac9551c2ef5c48  \n",
            "   creating: travelAgentQ/.git/objects/dd/\n",
            " extracting: travelAgentQ/.git/objects/dd/a621c0d0782da46aeb4893cffd5a6c7a0d7bd6  \n",
            " extracting: travelAgentQ/.git/objects/dd/f48bb9e67ee1e460610dccf748f036feb386e3  \n",
            "   creating: travelAgentQ/.git/objects/de/\n",
            " extracting: travelAgentQ/.git/objects/de/0dbef9e2f16a6df7dbae7c541f3268c526ef86  \n",
            "   creating: travelAgentQ/.git/objects/e0/\n",
            " extracting: travelAgentQ/.git/objects/e0/29663b35a1a33865329dcdc689e188c90eaaf4  \n",
            "   creating: travelAgentQ/.git/objects/e1/\n",
            " extracting: travelAgentQ/.git/objects/e1/8d0d697e89ab396da2bdebd60dc21c74a0fe73  \n",
            "   creating: travelAgentQ/.git/objects/e5/\n",
            " extracting: travelAgentQ/.git/objects/e5/a0978f94dd3581c77e78744721859fa1c8763b  \n",
            "   creating: travelAgentQ/.git/objects/e6/\n",
            " extracting: travelAgentQ/.git/objects/e6/9de29bb2d1d6434b8b29ae775ad8c2e48c5391  \n",
            "   creating: travelAgentQ/.git/objects/e8/\n",
            " extracting: travelAgentQ/.git/objects/e8/905a49443106d2f1fef921d0de7d942a3a8b0d  \n",
            "   creating: travelAgentQ/.git/objects/e9/\n",
            " extracting: travelAgentQ/.git/objects/e9/e770d4dbf4e46b5d6d14f86571f5166d6c96b0  \n",
            "   creating: travelAgentQ/.git/objects/eb/\n",
            " extracting: travelAgentQ/.git/objects/eb/95e78255ea68dd56ff14cb3edb84943d730173  \n",
            " extracting: travelAgentQ/.git/objects/eb/d5bfc6e51df66511b4c3b26cd352eb944b3fd5  \n",
            "   creating: travelAgentQ/.git/objects/ec/\n",
            " extracting: travelAgentQ/.git/objects/ec/b447aaf299697f3200bf8e807cbefe40d0cb56  \n",
            "   creating: travelAgentQ/.git/objects/ed/\n",
            " extracting: travelAgentQ/.git/objects/ed/5c7122dfecaca63aa468c1e7017673bdf203f5  \n",
            " extracting: travelAgentQ/.git/objects/ed/960e4cc41233afa1c86a2014996703b29002cf  \n",
            "   creating: travelAgentQ/.git/objects/ef/\n",
            " extracting: travelAgentQ/.git/objects/ef/36792a4881ca66ece80263e400a389e91201a2  \n",
            "   creating: travelAgentQ/.git/objects/f3/\n",
            " extracting: travelAgentQ/.git/objects/f3/89c62b9cec43359f05a11c15894c37a6f16d25  \n",
            "   creating: travelAgentQ/.git/objects/f4/\n",
            " extracting: travelAgentQ/.git/objects/f4/a6c3ec7d81b79c78d0153e327bc670773f6065  \n",
            "   creating: travelAgentQ/.git/objects/f9/\n",
            " extracting: travelAgentQ/.git/objects/f9/f39e020ea94d2ea4a09772737d117534980e0a  \n",
            "   creating: travelAgentQ/.git/objects/fa/\n",
            " extracting: travelAgentQ/.git/objects/fa/78cf9329a3f65131d7645d481dd78a15de7c64  \n",
            "   creating: travelAgentQ/.git/objects/fe/\n",
            " extracting: travelAgentQ/.git/objects/fe/1ef3b5670e783dc6dbf69c9dfd67de97322051  \n",
            " extracting: travelAgentQ/.git/objects/fe/d6ae8cb3517e93d07c452d7f341517bcd4fe29  \n",
            "   creating: travelAgentQ/.git/objects/info/\n",
            "   creating: travelAgentQ/.git/objects/pack/\n",
            "   creating: travelAgentQ/.git/refs/\n",
            "   creating: travelAgentQ/.git/refs/heads/\n",
            " extracting: travelAgentQ/.git/refs/heads/main  \n",
            "   creating: travelAgentQ/.git/refs/remotes/\n",
            "   creating: travelAgentQ/.git/refs/remotes/origin/\n",
            "  inflating: travelAgentQ/.git/refs/remotes/origin/main  \n",
            "   creating: travelAgentQ/.git/refs/tags/\n",
            "   creating: travelAgentQ/L5/\n",
            "   creating: travelAgentQ/L5/.ipynb_checkpoints/\n",
            "  inflating: travelAgentQ/L5/.ipynb_checkpoints/L5_student-checkpoint.ipynb  \n",
            "  inflating: travelAgentQ/L5/L5_student.ipynb  \n",
            "   creating: travelAgentQ/L5/agent-q-clone/\n",
            "  inflating: travelAgentQ/L5/agent-q-clone/.env.example  \n",
            "  inflating: travelAgentQ/L5/agent-q-clone/.gitignore  \n",
            "   creating: travelAgentQ/L5/agent-q-clone/.vscode/\n",
            " extracting: travelAgentQ/L5/agent-q-clone/.vscode/extensions.json  \n",
            "  inflating: travelAgentQ/L5/agent-q-clone/.vscode/settings.json  \n",
            "  inflating: travelAgentQ/L5/agent-q-clone/AgentQ.txt  \n",
            "  inflating: travelAgentQ/L5/agent-q-clone/LICENSE  \n",
            "  inflating: travelAgentQ/L5/agent-q-clone/README.md  \n",
            "   creating: travelAgentQ/L5/agent-q-clone/agentq/\n",
            " extracting: travelAgentQ/L5/agent-q-clone/agentq/__init__.py  \n",
            "  inflating: travelAgentQ/L5/agent-q-clone/agentq/__main__.py  \n",
            "   creating: travelAgentQ/L5/agent-q-clone/agentq/config/\n",
            " extracting: travelAgentQ/L5/agent-q-clone/agentq/config/__init__.py  \n",
            "  inflating: travelAgentQ/L5/agent-q-clone/agentq/config/config.py  \n",
            "   creating: travelAgentQ/L5/agent-q-clone/agentq/core/\n",
            "   creating: travelAgentQ/L5/agent-q-clone/agentq/core/agent/\n",
            " extracting: travelAgentQ/L5/agent-q-clone/agentq/core/agent/__init__.py  \n",
            "  inflating: travelAgentQ/L5/agent-q-clone/agentq/core/agent/agentq.py  \n",
            "  inflating: travelAgentQ/L5/agent-q-clone/agentq/core/agent/agentq_actor.py  \n",
            "  inflating: travelAgentQ/L5/agent-q-clone/agentq/core/agent/agentq_critic.py  \n",
            "  inflating: travelAgentQ/L5/agent-q-clone/agentq/core/agent/base.py  \n",
            "  inflating: travelAgentQ/L5/agent-q-clone/agentq/core/agent/browser_nav_agent.py  \n",
            "  inflating: travelAgentQ/L5/agent-q-clone/agentq/core/agent/captcha_agent.py  \n",
            "  inflating: travelAgentQ/L5/agent-q-clone/agentq/core/agent/eval_agent.py  \n",
            "  inflating: travelAgentQ/L5/agent-q-clone/agentq/core/agent/planner_agent.py  \n",
            "  inflating: travelAgentQ/L5/agent-q-clone/agentq/core/agent/vision_agent.py  \n",
            "   creating: travelAgentQ/L5/agent-q-clone/agentq/core/mcts/\n",
            " extracting: travelAgentQ/L5/agent-q-clone/agentq/core/mcts/__init__.py  \n",
            "  inflating: travelAgentQ/L5/agent-q-clone/agentq/core/mcts/browser_mcts.py  \n",
            "   creating: travelAgentQ/L5/agent-q-clone/agentq/core/mcts/core/\n",
            "  inflating: travelAgentQ/L5/agent-q-clone/agentq/core/mcts/core/base.py  \n",
            "  inflating: travelAgentQ/L5/agent-q-clone/agentq/core/mcts/core/mcts.py  \n",
            "   creating: travelAgentQ/L5/agent-q-clone/agentq/core/mcts/example/\n",
            "  inflating: travelAgentQ/L5/agent-q-clone/agentq/core/mcts/example/grid.py  \n",
            "   creating: travelAgentQ/L5/agent-q-clone/agentq/core/mcts/visualization/\n",
            " extracting: travelAgentQ/L5/agent-q-clone/agentq/core/mcts/visualization/__init__.py  \n",
            "  inflating: travelAgentQ/L5/agent-q-clone/agentq/core/mcts/visualization/__main__.py  \n",
            "  inflating: travelAgentQ/L5/agent-q-clone/agentq/core/mcts/visualization/tree_log.py  \n",
            "  inflating: travelAgentQ/L5/agent-q-clone/agentq/core/mcts/visualization/tree_snapshot.py  \n",
            "  inflating: travelAgentQ/L5/agent-q-clone/agentq/core/mcts/visualization/visualizer_client.py  \n",
            "   creating: travelAgentQ/L5/agent-q-clone/agentq/core/memory/\n",
            " extracting: travelAgentQ/L5/agent-q-clone/agentq/core/memory/__init__.py  \n",
            "  inflating: travelAgentQ/L5/agent-q-clone/agentq/core/memory/ltm.py  \n",
            "   creating: travelAgentQ/L5/agent-q-clone/agentq/core/models/\n",
            " extracting: travelAgentQ/L5/agent-q-clone/agentq/core/models/__init__.py  \n",
            "  inflating: travelAgentQ/L5/agent-q-clone/agentq/core/models/models.py  \n",
            "   creating: travelAgentQ/L5/agent-q-clone/agentq/core/orchestrator/\n",
            "  inflating: travelAgentQ/L5/agent-q-clone/agentq/core/orchestrator/orchestrator.py  \n",
            "   creating: travelAgentQ/L5/agent-q-clone/agentq/core/prompts/\n",
            " extracting: travelAgentQ/L5/agent-q-clone/agentq/core/prompts/__init__.py  \n",
            "  inflating: travelAgentQ/L5/agent-q-clone/agentq/core/prompts/prompts.py  \n",
            "   creating: travelAgentQ/L5/agent-q-clone/agentq/core/skills/\n",
            "  inflating: travelAgentQ/L5/agent-q-clone/agentq/core/skills/__init__.py  \n",
            "  inflating: travelAgentQ/L5/agent-q-clone/agentq/core/skills/click_using_selector.py  \n",
            "  inflating: travelAgentQ/L5/agent-q-clone/agentq/core/skills/enter_text_and_click.py  \n",
            "  inflating: travelAgentQ/L5/agent-q-clone/agentq/core/skills/enter_text_using_selector.py  \n",
            "  inflating: travelAgentQ/L5/agent-q-clone/agentq/core/skills/get_dom_with_content_type.py  \n",
            "  inflating: travelAgentQ/L5/agent-q-clone/agentq/core/skills/get_screenshot.py  \n",
            "  inflating: travelAgentQ/L5/agent-q-clone/agentq/core/skills/get_url.py  \n",
            "  inflating: travelAgentQ/L5/agent-q-clone/agentq/core/skills/get_user_input.py  \n",
            "  inflating: travelAgentQ/L5/agent-q-clone/agentq/core/skills/open_url.py  \n",
            "  inflating: travelAgentQ/L5/agent-q-clone/agentq/core/skills/pdf_text_extractor.py  \n",
            "  inflating: travelAgentQ/L5/agent-q-clone/agentq/core/skills/press_key_combination.py  \n",
            "  inflating: travelAgentQ/L5/agent-q-clone/agentq/core/skills/solve_captcha.py  \n",
            "  inflating: travelAgentQ/L5/agent-q-clone/agentq/core/skills/upload_file.py  \n",
            "   creating: travelAgentQ/L5/agent-q-clone/agentq/core/web_driver/\n",
            " extracting: travelAgentQ/L5/agent-q-clone/agentq/core/web_driver/__init__.py  \n",
            "  inflating: travelAgentQ/L5/agent-q-clone/agentq/core/web_driver/playwright.py  \n",
            "   creating: travelAgentQ/L5/agent-q-clone/agentq/user_preferences/\n",
            "  inflating: travelAgentQ/L5/agent-q-clone/agentq/user_preferences/user_preferences.txt  \n",
            "   creating: travelAgentQ/L5/agent-q-clone/agentq/utils/\n",
            " extracting: travelAgentQ/L5/agent-q-clone/agentq/utils/__init__.py  \n",
            "  inflating: travelAgentQ/L5/agent-q-clone/agentq/utils/_pydantic.py  \n",
            "  inflating: travelAgentQ/L5/agent-q-clone/agentq/utils/cli_helper.py  \n",
            "  inflating: travelAgentQ/L5/agent-q-clone/agentq/utils/dom_helper.py  \n",
            "  inflating: travelAgentQ/L5/agent-q-clone/agentq/utils/dom_mutation_observer.py  \n",
            "  inflating: travelAgentQ/L5/agent-q-clone/agentq/utils/extract_json.py  \n",
            "  inflating: travelAgentQ/L5/agent-q-clone/agentq/utils/function_utils.py  \n",
            "  inflating: travelAgentQ/L5/agent-q-clone/agentq/utils/get_detailed_accessibility_tree.py  \n",
            "  inflating: travelAgentQ/L5/agent-q-clone/agentq/utils/logger.py  \n",
            "  inflating: travelAgentQ/L5/agent-q-clone/agentq/utils/message_type.py  \n",
            "  inflating: travelAgentQ/L5/agent-q-clone/agentq/utils/ui_messagetype.py  \n",
            "  inflating: travelAgentQ/L5/agent-q-clone/dpo_pairs.jsonl  \n",
            "  inflating: travelAgentQ/L5/agent-q-clone/logs.txt  \n",
            "  inflating: travelAgentQ/L5/agent-q-clone/poetry.lock  \n",
            "  inflating: travelAgentQ/L5/agent-q-clone/pyproject.toml  \n",
            "  inflating: travelAgentQ/L5/agent-q-clone/requirements.txt  \n",
            "  inflating: travelAgentQ/L5/agent-q-clone/server.py  \n",
            "   creating: travelAgentQ/L5/agent-q-clone/test/\n",
            " extracting: travelAgentQ/L5/agent-q-clone/test/__init__.py  \n",
            "  inflating: travelAgentQ/L5/agent-q-clone/test/evaluators.py  \n",
            "  inflating: travelAgentQ/L5/agent-q-clone/test/run_tests.py  \n",
            "   creating: travelAgentQ/L5/agent-q-clone/test/tasks/\n",
            "  inflating: travelAgentQ/L5/agent-q-clone/test/tasks/annotator_dry_run_webvoyager_tasks_30.json  \n",
            "  inflating: travelAgentQ/L5/agent-q-clone/test/tasks/test.json  \n",
            "  inflating: travelAgentQ/L5/agent-q-clone/test/tasks/two_tasks.json  \n",
            "  inflating: travelAgentQ/L5/agent-q-clone/test/tasks/webvoyager_sampled_data.json  \n",
            "  inflating: travelAgentQ/L5/agent-q-clone/test/tasks/webvoyager_test.json  \n",
            "  inflating: travelAgentQ/L5/agent-q-clone/test/test_config_auditor.py  \n",
            "  inflating: travelAgentQ/L5/agent-q-clone/test/test_tasks_formatter.py  \n",
            "  inflating: travelAgentQ/L5/agent-q-clone/test/test_utils.py  \n",
            "  inflating: travelAgentQ/L5/agent-q-clone/test/tests_processor.py  \n",
            "  inflating: travelAgentQ/L5/agentQ.zip  \n",
            "  inflating: travelAgentQ/L5/gridworld.py  \n",
            "  inflating: travelAgentQ/L5/helper.py  \n",
            "   creating: travelAgentQ/L5/logs/\n",
            "  inflating: travelAgentQ/L5/logs/app.log  \n",
            "  inflating: travelAgentQ/L5/mcts.py  \n",
            "  inflating: travelAgentQ/L5/mcts_animation.py  \n",
            "  inflating: travelAgentQ/L5/plotTree.py  \n",
            "  inflating: travelAgentQ/L5/requirements.txt  \n",
            " extracting: travelAgentQ/README.md  \n",
            "  inflating: travelAgentQ/agentQ.zip  \n",
            "  inflating: travelAgentQ/flights_tutorial_notebook.ipynb  \n",
            "  inflating: travelAgentQ/push_to_git.py  \n",
            "   creating: travelAgentQ/travel_booking_portal/\n",
            "  inflating: travelAgentQ/travel_booking_portal/README.md  \n",
            "   creating: travelAgentQ/travel_booking_portal/api/\n",
            "  inflating: travelAgentQ/travel_booking_portal/api/__init__.py  \n",
            "  inflating: travelAgentQ/travel_booking_portal/api/flight_api.py  \n",
            "  inflating: travelAgentQ/travel_booking_portal/api/hotel_api.py  \n",
            "  inflating: travelAgentQ/travel_booking_portal/api/package_api.py  \n",
            "   creating: travelAgentQ/travel_booking_portal/data/\n",
            "   creating: travelAgentQ/travel_booking_portal/frontend/\n",
            "  inflating: travelAgentQ/travel_booking_portal/frontend/app.py  \n",
            "  inflating: travelAgentQ/travel_booking_portal/main.py  \n",
            "   creating: travelAgentQ/travel_booking_portal/models/\n",
            "  inflating: travelAgentQ/travel_booking_portal/requirements.txt  \n",
            "  inflating: travelAgentQ/travel_booking_portal/travel_booking_notebook.ipynb  \n",
            "   creating: travelAgentQ/travel_booking_portal/utils/\n",
            "  inflating: travelAgentQ/travel_booking_portal/utils/__init__.py  \n",
            "  inflating: travelAgentQ/travel_booking_portal/utils/agent.py  \n",
            "  inflating: travelAgentQ/travel_booking_portal/utils/config.py  \n",
            "  inflating: travelAgentQ/travel_booking_portal/utils/data_processor.py  \n"
          ]
        }
      ]
    },
    {
      "cell_type": "code",
      "source": [
        "cd /content/travelAgentQ/travel_booking_portal\n"
      ],
      "metadata": {
        "colab": {
          "base_uri": "https://localhost:8080/"
        },
        "id": "i3pD47QSp3JO",
        "outputId": "b8af4580-4ab7-40e8-e975-ef8981b4ed0b"
      },
      "execution_count": 1,
      "outputs": [
        {
          "output_type": "stream",
          "name": "stdout",
          "text": [
            "/content/travelAgentQ/travel_booking_portal\n"
          ]
        }
      ]
    },
    {
      "cell_type": "code",
      "execution_count": 4,
      "metadata": {
        "colab": {
          "base_uri": "https://localhost:8080/"
        },
        "collapsed": true,
        "id": "yjwQnbUakqdX",
        "outputId": "b41e26a5-ceea-4a52-a444-c1939c7a6880"
      },
      "outputs": [
        {
          "output_type": "stream",
          "name": "stdout",
          "text": [
            "Collecting httpx<0.28\n",
            "  Downloading httpx-0.27.2-py3-none-any.whl.metadata (7.1 kB)\n",
            "Requirement already satisfied: anyio in /usr/local/lib/python3.11/dist-packages (from httpx<0.28) (4.9.0)\n",
            "Requirement already satisfied: certifi in /usr/local/lib/python3.11/dist-packages (from httpx<0.28) (2025.4.26)\n",
            "Requirement already satisfied: httpcore==1.* in /usr/local/lib/python3.11/dist-packages (from httpx<0.28) (1.0.9)\n",
            "Requirement already satisfied: idna in /usr/local/lib/python3.11/dist-packages (from httpx<0.28) (3.10)\n",
            "Requirement already satisfied: sniffio in /usr/local/lib/python3.11/dist-packages (from httpx<0.28) (1.3.1)\n",
            "Requirement already satisfied: h11>=0.16 in /usr/local/lib/python3.11/dist-packages (from httpcore==1.*->httpx<0.28) (0.16.0)\n",
            "Requirement already satisfied: typing_extensions>=4.5 in /usr/local/lib/python3.11/dist-packages (from anyio->httpx<0.28) (4.13.2)\n",
            "Downloading httpx-0.27.2-py3-none-any.whl (76 kB)\n",
            "\u001b[2K   \u001b[90m━━━━━━━━━━━━━━━━━━━━━━━━━━━━━━━━━━━━━━━━\u001b[0m \u001b[32m76.4/76.4 kB\u001b[0m \u001b[31m2.2 MB/s\u001b[0m eta \u001b[36m0:00:00\u001b[0m\n",
            "\u001b[?25hInstalling collected packages: httpx\n",
            "  Attempting uninstall: httpx\n",
            "    Found existing installation: httpx 0.28.1\n",
            "    Uninstalling httpx-0.28.1:\n",
            "      Successfully uninstalled httpx-0.28.1\n",
            "\u001b[31mERROR: pip's dependency resolver does not currently take into account all the packages that are installed. This behaviour is the source of the following dependency conflicts.\n",
            "google-genai 1.16.1 requires httpx<1.0.0,>=0.28.1, but you have httpx 0.27.2 which is incompatible.\n",
            "google-genai 1.16.1 requires websockets<15.1.0,>=13.0.0, but you have websockets 11.0.3 which is incompatible.\n",
            "langchain-core 0.3.60 requires pydantic>=2.7.4, but you have pydantic 2.5.3 which is incompatible.\u001b[0m\u001b[31m\n",
            "\u001b[0mSuccessfully installed httpx-0.27.2\n"
          ]
        }
      ],
      "source": [
        "!pip install \"httpx<0.28\"\n",
        "# !pip install -r requirements.txt"
      ]
    },
    {
      "cell_type": "markdown",
      "metadata": {
        "id": "Ei9UaAIbkqdY"
      },
      "source": [
        "Now, let's set up our API credentials. You'll need to obtain API keys for:\n",
        "- Amadeus (for flight and hotel data): https://developers.amadeus.com/\n",
        "- Groq (for AI-powered recommendations): https://console.groq.com/"
      ]
    },
    {
      "cell_type": "code",
      "execution_count": 2,
      "metadata": {
        "id": "tXX0mAMEkqdY"
      },
      "outputs": [],
      "source": [
        "import os\n",
        "import sys\n",
        "import logging\n",
        "\n",
        "# Add parent directory to path to import modules\n",
        "sys.path.append('..')\n",
        "\n",
        "# Set up API credentials\n",
        "os.environ['AMADEUS_API_KEY'] = \"bsknoiobYmGP9Ur47t6bGwFDUMihUtnH\"  # Replace with your actual API key\n",
        "os.environ['AMADEUS_API_SECRET'] = \"4YN13VQCc0ti4X8I\"  # Replace with your actual API secret\n",
        "os.environ['GROQ_API_KEY'] = \"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\"  # Replace with your actual API key\n",
        "os.environ['GROQ_MODEL'] = \"llama-3.3-70b-versatile\"  # You can change this to a different model if needed\n",
        "\n",
        "# Set up logging\n",
        "logging.basicConfig(level=logging.INFO)\n",
        "logger = logging.getLogger('notebook')"
      ]
    },
    {
      "cell_type": "markdown",
      "metadata": {
        "id": "XFwPAdR3kqdY"
      },
      "source": [
        "## 2. Initialize APIs and Agent\n",
        "\n",
        "Now, let's initialize the APIs and agent for our travel booking portal:"
      ]
    },
    {
      "cell_type": "code",
      "execution_count": 3,
      "metadata": {
        "colab": {
          "base_uri": "https://localhost:8080/"
        },
        "id": "b50cJjS0kqdY",
        "outputId": "82da760a-4739-4d3c-b038-dde338a85a4a"
      },
      "outputs": [
        {
          "output_type": "stream",
          "name": "stdout",
          "text": [
            "APIs and agent initialized successfully!\n"
          ]
        }
      ],
      "source": [
        "from utils import Config, TravelAgent, DataProcessor\n",
        "from api import FlightAPI, HotelAPI, PackageAPI\n",
        "\n",
        "# Load configuration\n",
        "config = Config()\n",
        "if not config.validate():\n",
        "    logger.error(\"Invalid configuration. Please check your API credentials.\")\n",
        "    raise ValueError(\"Invalid configuration\")\n",
        "\n",
        "# Initialize APIs\n",
        "amadeus_credentials = config.get_amadeus_credentials()\n",
        "flight_api = FlightAPI(amadeus_credentials['api_key'], amadeus_credentials['api_secret'])\n",
        "hotel_api = HotelAPI(amadeus_credentials['api_key'], amadeus_credentials['api_secret'])\n",
        "package_api = PackageAPI(flight_api, hotel_api)\n",
        "\n",
        "# Initialize agent\n",
        "groq_credentials = config.get_groq_credentials()\n",
        "travel_agent = TravelAgent(groq_credentials['api_key'], groq_credentials['model'])\n",
        "\n",
        "# Initialize data processor\n",
        "data_processor = DataProcessor()\n",
        "\n",
        "print(\"APIs and agent initialized successfully!\")"
      ]
    },
    {
      "cell_type": "markdown",
      "metadata": {
        "id": "pNty_fsKkqdY"
      },
      "source": [
        "## 3. Natural Language Query Processing\n",
        "\n",
        "Let's use the travel agent to process a natural language query and extract travel criteria:"
      ]
    },
    {
      "cell_type": "code",
      "execution_count": 5,
      "metadata": {
        "colab": {
          "base_uri": "https://localhost:8080/"
        },
        "id": "jteT202ykqdY",
        "outputId": "e2da9478-df24-4ac5-bb55-4caa15501e42"
      },
      "outputs": [
        {
          "output_type": "stream",
          "name": "stderr",
          "text": [
            "ERROR:agent:Error parsing JSON from response: Extra data: line 14 column 1 (char 257)\n",
            "ERROR:agent:Raw response: ```json\n",
            "{\n",
            "  \"origin_location\": \"New York\",\n",
            "  \"destinations\": [\"Paris\"],\n",
            "  \"departure_date\": null,\n",
            "  \"return_date\": null,\n",
            "  \"adults\": 2,\n",
            "  \"children\": 1,\n",
            "  \"infants\": 0,\n",
            "  \"travel_class\": null,\n",
            "  \"budget\": null,\n",
            "  \"preferences\": null,\n",
            "  \"multi_destination\": false\n",
            "}\n",
            "```\n",
            "\n",
            "Note: The departure and return dates are not explicitly mentioned in the query, but it's mentioned that the trip is for a week in July. If you want to include this information, you could add a \"departure_month\" and \"trip_duration\" field to the JSON object, like this:\n",
            "\n",
            "```json\n",
            "{\n",
            "  \"origin_location\": \"New York\",\n",
            "  \"destinations\": [\"Paris\"],\n",
            "  \"departure_date\": null,\n",
            "  \"return_date\": null,\n",
            "  \"departure_month\": \"July\",\n",
            "  \"trip_duration\": 7,\n",
            "  \"adults\": 2,\n",
            "  \"children\": 1,\n",
            "  \"infants\": 0,\n",
            "  \"travel_class\": null,\n",
            "  \"budget\": null,\n",
            "  \"preferences\": null,\n",
            "  \"multi_destination\": false\n",
            "}\n",
            "```\n"
          ]
        },
        {
          "output_type": "stream",
          "name": "stdout",
          "text": [
            "{}\n"
          ]
        }
      ],
      "source": [
        "# Example natural language query\n",
        "query = \"I want to travel from New York to Paris for a week in July with my family (2 adults, 1 child)\"\n",
        "\n",
        "# Extract travel criteria\n",
        "criteria = travel_agent.extract_travel_criteria(query)\n",
        "\n",
        "# Display extracted criteria\n",
        "import json\n",
        "print(json.dumps(criteria, indent=2))"
      ]
    },
    {
      "cell_type": "markdown",
      "metadata": {
        "id": "YVGOhwaCkqdY"
      },
      "source": [
        "## 4. Search for Flights\n",
        "\n",
        "Now, let's search for flights based on the extracted criteria:"
      ]
    },
    {
      "cell_type": "code",
      "execution_count": 6,
      "metadata": {
        "colab": {
          "base_uri": "https://localhost:8080/"
        },
        "id": "Rkg0DDsnkqdY",
        "outputId": "6b8bdf98-5305-4f25-f37e-c2fce870d129"
      },
      "outputs": [
        {
          "output_type": "stream",
          "name": "stdout",
          "text": [
            "Searching for flights from NYC to PAR on 2025-06-27 returning 2025-07-04...\n",
            "Found 5 flight offers\n"
          ]
        }
      ],
      "source": [
        "# Set up search parameters\n",
        "origin = criteria.get('origin_location', 'NYC')  # Default to NYC if not extracted\n",
        "destination = criteria.get('destinations', 'PAR')  # Default to Paris if not extracted\n",
        "if isinstance(destination, list):\n",
        "    destination = destination[0]  # Take the first destination if multiple are extracted\n",
        "\n",
        "# Set dates (default to next month if not extracted)\n",
        "from datetime import datetime, timedelta\n",
        "default_departure = (datetime.now() + timedelta(days=30)).strftime('%Y-%m-%d')\n",
        "default_return = (datetime.now() + timedelta(days=37)).strftime('%Y-%m-%d')\n",
        "departure_date = criteria.get('departure_date', default_departure)\n",
        "return_date = criteria.get('return_date', default_return)\n",
        "\n",
        "# Set passenger counts\n",
        "adults = criteria.get('adults', 2)\n",
        "children = criteria.get('children', 1)\n",
        "\n",
        "# Set travel class\n",
        "travel_class = criteria.get('travel_class', 'ECONOMY')\n",
        "\n",
        "# Search for flights\n",
        "print(f\"Searching for flights from {origin} to {destination} on {departure_date} returning {return_date}...\")\n",
        "flight_offers = flight_api.search_flights(\n",
        "    origin_location_code=origin,\n",
        "    destination_location_code=destination,\n",
        "    departure_date=departure_date,\n",
        "    return_date=return_date,\n",
        "    adults=adults,\n",
        "    children=children,\n",
        "    travel_class=travel_class,\n",
        "    currency_code=\"USD\",\n",
        "    max_results=5\n",
        ")\n",
        "\n",
        "# Display flight offers\n",
        "print(f\"Found {len(flight_offers)} flight offers\")\n",
        "if flight_offers:\n",
        "    # Parse flight data into a DataFrame\n",
        "    flights_df = data_processor.parse_flight_data(flight_offers)\n",
        "    flights_df.head()"
      ]
    },
    {
      "cell_type": "markdown",
      "metadata": {
        "id": "dB2gFKYokqdZ"
      },
      "source": [
        "## 5. Search for Hotels\n",
        "\n",
        "Now, let's search for hotels at the destination:"
      ]
    },
    {
      "cell_type": "code",
      "execution_count": 7,
      "metadata": {
        "colab": {
          "base_uri": "https://localhost:8080/"
        },
        "id": "Oh8CSmqNkqdZ",
        "outputId": "826a75c4-bd87-4c8c-fa5c-df6338b321f6"
      },
      "outputs": [
        {
          "output_type": "stream",
          "name": "stdout",
          "text": [
            "Searching for hotels in PAR from 2025-06-27 to 2025-07-04...\n"
          ]
        },
        {
          "output_type": "stream",
          "name": "stderr",
          "text": [
            "ERROR:hotel_api:Error searching for hotels: object of type 'NoneType' has no len()\n"
          ]
        },
        {
          "output_type": "stream",
          "name": "stdout",
          "text": [
            "Found 0 hotel offers\n"
          ]
        }
      ],
      "source": [
        "# Search for hotels\n",
        "print(f\"Searching for hotels in {destination} from {departure_date} to {return_date}...\")\n",
        "hotel_offers = hotel_api.search_hotels(\n",
        "    city_code=destination,\n",
        "    check_in_date=departure_date,\n",
        "    check_out_date=return_date,\n",
        "    adults=adults,\n",
        "    radius=5,\n",
        "    radius_unit=\"KM\",\n",
        "    currency=\"USD\",\n",
        "    max_results=5\n",
        ")\n",
        "\n",
        "# Display hotel offers\n",
        "print(f\"Found {len(hotel_offers)} hotel offers\")\n",
        "if hotel_offers:\n",
        "    # Parse hotel data into a DataFrame\n",
        "    hotels_df = data_processor.parse_hotel_data(hotel_offers)\n",
        "    hotels_df.head()"
      ]
    },
    {
      "cell_type": "markdown",
      "metadata": {
        "id": "yexwmFAikqdZ"
      },
      "source": [
        "## 6. Create Travel Packages\n",
        "\n",
        "Now, let's combine flights and hotels to create travel packages:"
      ]
    },
    {
      "cell_type": "code",
      "execution_count": 8,
      "metadata": {
        "colab": {
          "base_uri": "https://localhost:8080/"
        },
        "id": "TjI6VjBakqdZ",
        "outputId": "80e798e6-597b-4254-f04e-168ebe228354"
      },
      "outputs": [
        {
          "output_type": "stream",
          "name": "stdout",
          "text": [
            "Creating travel packages...\n"
          ]
        },
        {
          "output_type": "stream",
          "name": "stderr",
          "text": [
            "ERROR:hotel_api:Error searching for hotels: object of type 'NoneType' has no len()\n",
            "WARNING:package_api:No hotel offers found for the specified criteria\n"
          ]
        },
        {
          "output_type": "stream",
          "name": "stdout",
          "text": [
            "Created 0 travel packages\n"
          ]
        }
      ],
      "source": [
        "# Create travel packages\n",
        "print(\"Creating travel packages...\")\n",
        "packages = package_api.create_single_destination_package(\n",
        "    origin_location_code=origin,\n",
        "    destination_location_code=destination,\n",
        "    departure_date=departure_date,\n",
        "    return_date=return_date,\n",
        "    adults=adults,\n",
        "    children=children,\n",
        "    travel_class=travel_class,\n",
        "    currency_code=\"USD\",\n",
        "    max_flight_results=5,\n",
        "    max_hotel_results=5\n",
        ")\n",
        "\n",
        "# Display packages\n",
        "print(f\"Created {len(packages)} travel packages\")\n",
        "if packages:\n",
        "    # Parse package data into a DataFrame\n",
        "    packages_df = data_processor.parse_package_data(packages)\n",
        "    packages_df.head()"
      ]
    },
    {
      "cell_type": "markdown",
      "metadata": {
        "id": "De4-DIA-kqdZ"
      },
      "source": [
        "## 7. Get AI-Powered Recommendations\n",
        "\n",
        "Now, let's use the travel agent to generate personalized recommendations based on the available packages:"
      ]
    },
    {
      "cell_type": "code",
      "execution_count": 9,
      "metadata": {
        "id": "wn1fWA25kqdZ"
      },
      "outputs": [],
      "source": [
        "# Generate recommendations\n",
        "if packages:\n",
        "    print(\"Generating recommendations...\")\n",
        "    recommendations = travel_agent.generate_travel_recommendations(packages[:3], criteria)\n",
        "    print(\"\\nRecommendations:\")\n",
        "    print(recommendations)"
      ]
    },
    {
      "cell_type": "markdown",
      "metadata": {
        "id": "FQ8zwcLVkqdZ"
      },
      "source": [
        "## 8. View Package Details\n",
        "\n",
        "Let's view the details of a specific package:"
      ]
    },
    {
      "cell_type": "code",
      "execution_count": 10,
      "metadata": {
        "id": "HPhssnjNkqdZ"
      },
      "outputs": [],
      "source": [
        "# View package details\n",
        "if packages:\n",
        "    package_id = 0  # View the first package\n",
        "    print(f\"Viewing details for package {package_id}...\")\n",
        "    package_details = travel_agent.format_package_details(packages[package_id], detailed=True)\n",
        "    print(\"\\nPackage Details:\")\n",
        "    print(package_details)"
      ]
    },
    {
      "cell_type": "markdown",
      "metadata": {
        "id": "odzpIf6KkqdZ"
      },
      "source": [
        "## 9. Ask Travel-Related Questions\n",
        "\n",
        "Finally, let's ask the travel agent some questions:"
      ]
    },
    {
      "cell_type": "code",
      "execution_count": 11,
      "metadata": {
        "colab": {
          "base_uri": "https://localhost:8080/"
        },
        "id": "OD-7WtT1kqdZ",
        "outputId": "841973e8-c67c-4d54-84cc-091a618984cc"
      },
      "outputs": [
        {
          "output_type": "stream",
          "name": "stdout",
          "text": [
            "Question: What's the best time to visit Paris?\n",
            "\n",
            "Answer:\n",
            "The best time to visit Paris is during the spring (April-May) and autumn (September-October), when the weather is mild and pleasant, with average temperatures ranging from 15°C to 25°C (59°F to 77°F). These periods offer a great balance of comfortable weather and smaller crowds, making it ideal for exploring the city's famous landmarks and attractions.\n"
          ]
        }
      ],
      "source": [
        "# Ask a question\n",
        "question = \"What's the best time to visit Paris?\"\n",
        "print(f\"Question: {question}\")\n",
        "\n",
        "# Prepare context with current search results and criteria\n",
        "context = {\n",
        "    'current_criteria': criteria,\n",
        "    'has_search_results': len(packages) > 0,\n",
        "    'number_of_packages': len(packages) if packages else 0,\n",
        "    'price_range': {\n",
        "        'min': min([p['total_price'] for p in packages]) if packages else None,\n",
        "        'max': max([p['total_price'] for p in packages]) if packages else None,\n",
        "        'currency': packages[0]['currency'] if packages else None\n",
        "    }\n",
        "}\n",
        "\n",
        "# Get answer from agent\n",
        "answer = travel_agent.answer_travel_question(question, context)\n",
        "print(\"\\nAnswer:\")\n",
        "print(answer)"
      ]
    },
    {
      "cell_type": "markdown",
      "metadata": {
        "id": "ccYd4BZdkqdZ"
      },
      "source": [
        "## 10. Launch Gradio Web Interface\n",
        "\n",
        "If you want to use the web interface instead of the notebook, you can launch the Gradio app:"
      ]
    },
    {
      "cell_type": "code",
      "execution_count": 12,
      "metadata": {
        "colab": {
          "base_uri": "https://localhost:8080/",
          "height": 750
        },
        "id": "yriD0nY3kqdZ",
        "outputId": "2692d1b6-6381-46d2-bfb1-544fc96ffbf7"
      },
      "outputs": [
        {
          "output_type": "stream",
          "name": "stderr",
          "text": [
            "/usr/local/lib/python3.11/dist-packages/gradio/components/dropdown.py:173: UserWarning: The value passed into gr.Dropdown() is not in the list of choices. Please update the list of choices to include:  or set allow_custom_value=True.\n",
            "  warnings.warn(\n",
            "/usr/local/lib/python3.11/dist-packages/gradio/components/dropdown.py:173: UserWarning: The value passed into gr.Dropdown() is not in the list of choices. Please update the list of choices to include: 2025-05-28 or set allow_custom_value=True.\n",
            "  warnings.warn(\n"
          ]
        },
        {
          "output_type": "stream",
          "name": "stdout",
          "text": [
            "IMPORTANT: You are using gradio version 4.19.2, however version 4.44.1 is available, please upgrade.\n",
            "--------\n",
            "Setting queue=True in a Colab notebook requires sharing enabled. Setting `share=True` (you can turn this off by setting `share=False` in `launch()` explicitly).\n",
            "\n",
            "Colab notebook detected. To show errors in colab notebook, set debug=True in launch()\n",
            "Running on public URL: https://1ef62858c470233fdd.gradio.live\n",
            "\n",
            "This share link expires in 72 hours. For free permanent hosting and GPU upgrades, run `gradio deploy` from Terminal to deploy to Spaces (https://huggingface.co/spaces)\n"
          ]
        },
        {
          "output_type": "display_data",
          "data": {
            "text/plain": [
              "<IPython.core.display.HTML object>"
            ],
            "text/html": [
              "<div><iframe src=\"https://1ef62858c470233fdd.gradio.live\" width=\"100%\" height=\"500\" allow=\"autoplay; camera; microphone; clipboard-read; clipboard-write;\" frameborder=\"0\" allowfullscreen></iframe></div>"
            ]
          },
          "metadata": {}
        },
        {
          "output_type": "execute_result",
          "data": {
            "text/plain": []
          },
          "metadata": {},
          "execution_count": 12
        }
      ],
      "source": [
        "from frontend.app import app as gradio_app\n",
        "\n",
        "# Launch the app\n",
        "gradio_app.launch()"
      ]
    },
    {
      "cell_type": "code",
      "source": [],
      "metadata": {
        "id": "8sKh3oiYgkQm"
      },
      "execution_count": null,
      "outputs": []
    }
  ],
  "metadata": {
    "kernelspec": {
      "display_name": "Python 3",
      "language": "python",
      "name": "python3"
    },
    "language_info": {
      "codemirror_mode": {
        "name": "ipython",
        "version": 3
      },
      "file_extension": ".py",
      "mimetype": "text/x-python",
      "name": "python",
      "nbconvert_exporter": "python",
      "pygments_lexer": "ipython3",
      "version": "3.9.18"
    },
    "colab": {
      "provenance": [],
      "include_colab_link": true
    }
  },
  "nbformat": 4,
  "nbformat_minor": 0
}
{
 "cells": [
  {
   "cell_type": "markdown",
   "metadata": {},
   "source": [
    "# Travel Package Booking Portal\n",
    "\n",
    "This notebook demonstrates how to use the travel package booking portal to search for and book travel packages that combine flights and hotels."
   ]
  },
  {
   "cell_type": "markdown",
   "metadata": {},
   "source": [
    "## 1. Setup and Configuration\n",
    "\n",
    "First, let's install the required dependencies:"
   ]
  },
  {
   "cell_type": "code",
   "execution_count": null,
   "metadata": {},
   "outputs": [],
   "source": [
    "!pip install -r requirements.txt"
   ]
  },
  {
   "cell_type": "markdown",
   "metadata": {},
   "source": [
    "Now, let's set up our API credentials. You'll need to obtain API keys for:\n",
    "- Amadeus (for flight and hotel data): https://developers.amadeus.com/\n",
    "- Groq (for AI-powered recommendations): https://console.groq.com/"
   ]
  },
  {
   "cell_type": "code",
   "execution_count": null,
   "metadata": {},
   "outputs": [],
   "source": [
    "import os\n",
    "import sys\n",
    "import logging\n",
    "\n",
    "# Add parent directory to path to import modules\n",
    "sys.path.append('..')\n",
    "\n",
    "# Set up API credentials\n",
    "os.environ['AMADEUS_API_KEY'] = \"YOUR_AMADEUS_API_KEY\"  # Replace with your actual API key\n",
    "os.environ['AMADEUS_API_SECRET'] = \"YOUR_AMADEUS_API_SECRET\"  # Replace with your actual API secret\n",
    "os.environ['GROQ_API_KEY'] = \"YOUR_GROQ_API_KEY\"  # Replace with your actual API key\n",
    "os.environ['GROQ_MODEL'] = \"llama3-8b-8192\"  # You can change this to a different model if needed\n",
    "\n",
    "# Set up logging\n",
    "logging.basicConfig(level=logging.INFO)\n",
    "logger = logging.getLogger('notebook')"
   ]
  },
  {
   "cell_type": "markdown",
   "metadata": {},
   "source": [
    "## 2. Initialize APIs and Agent\n",
    "\n",
    "Now, let's initialize the APIs and agent for our travel booking portal:"
   ]
  },
  {
   "cell_type": "code",
   "execution_count": null,
   "metadata": {},
   "outputs": [],
   "source": [
    "from utils import Config, TravelAgent, DataProcessor\n",
    "from api import FlightAPI, HotelAPI, PackageAPI\n",
    "\n",
    "# Load configuration\n",
    "config = Config()\n",
    "if not config.validate():\n",
    "    logger.error(\"Invalid configuration. Please check your API credentials.\")\n",
    "    raise ValueError(\"Invalid configuration\")\n",
    "\n",
    "# Initialize APIs\n",
    "amadeus_credentials = config.get_amadeus_credentials()\n",
    "flight_api = FlightAPI(amadeus_credentials['api_key'], amadeus_credentials['api_secret'])\n",
    "hotel_api = HotelAPI(amadeus_credentials['api_key'], amadeus_credentials['api_secret'])\n",
    "package_api = PackageAPI(flight_api, hotel_api)\n",
    "\n",
    "# Initialize agent\n",
    "groq_credentials = config.get_groq_credentials()\n",
    "travel_agent = TravelAgent(groq_credentials['api_key'], groq_credentials['model'])\n",
    "\n",
    "# Initialize data processor\n",
    "data_processor = DataProcessor()\n",
    "\n",
    "print(\"APIs and agent initialized successfully!\")"
   ]
  },
  {
   "cell_type": "markdown",
   "metadata": {},
   "source": [
    "## 3. Natural Language Query Processing\n",
    "\n",
    "Let's use the travel agent to process a natural language query and extract travel criteria:"
   ]
  },
  {
   "cell_type": "code",
   "execution_count": null,
   "metadata": {},
   "outputs": [],
   "source": [
    "# Example natural language query\n",
    "query = \"I want to travel from New York to Paris for a week in July with my family (2 adults, 1 child)\"\n",
    "\n",
    "# Extract travel criteria\n",
    "criteria = travel_agent.extract_travel_criteria(query)\n",
    "\n",
    "# Display extracted criteria\n",
    "import json\n",
    "print(json.dumps(criteria, indent=2))"
   ]
  },
  {
   "cell_type": "markdown",
   "metadata": {},
   "source": [
    "## 4. Search for Flights\n",
    "\n",
    "Now, let's search for flights based on the extracted criteria:"
   ]
  },
  {
   "cell_type": "code",
   "execution_count": null,
   "metadata": {},
   "outputs": [],
   "source": [
    "# Set up search parameters\n",
    "origin = criteria.get('origin_location', 'NYC')  # Default to NYC if not extracted\n",
    "destination = criteria.get('destinations', 'PAR')  # Default to Paris if not extracted\n",
    "if isinstance(destination, list):\n",
    "    destination = destination[0]  # Take the first destination if multiple are extracted\n",
    "\n",
    "# Set dates (default to next month if not extracted)\n",
    "from datetime import datetime, timedelta\n",
    "default_departure = (datetime.now() + timedelta(days=30)).strftime('%Y-%m-%d')\n",
    "default_return = (datetime.now() + timedelta(days=37)).strftime('%Y-%m-%d')\n",
    "departure_date = criteria.get('departure_date', default_departure)\n",
    "return_date = criteria.get('return_date', default_return)\n",
    "\n",
    "# Set passenger counts\n",
    "adults = criteria.get('adults', 2)\n",
    "children = criteria.get('children', 1)\n",
    "\n",
    "# Set travel class\n",
    "travel_class = criteria.get('travel_class', 'ECONOMY')\n",
    "\n",
    "# Search for flights\n",
    "print(f\"Searching for flights from {origin} to {destination} on {departure_date} returning {return_date}...\")\n",
    "flight_offers = flight_api.search_flights(\n",
    "    origin_location_code=origin,\n",
    "    destination_location_code=destination,\n",
    "    departure_date=departure_date,\n",
    "    return_date=return_date,\n",
    "    adults=adults,\n",
    "    children=children,\n",
    "    travel_class=travel_class,\n",
    "    currency_code=\"USD\",\n",
    "    max_results=5\n",
    ")\n",
    "\n",
    "# Display flight offers\n",
    "print(f\"Found {len(flight_offers)} flight offers\")\n",
    "if flight_offers:\n",
    "    # Parse flight data into a DataFrame\n",
    "    flights_df = data_processor.parse_flight_data(flight_offers)\n",
    "    flights_df.head()"
   ]
  },
  {
   "cell_type": "markdown",
   "metadata": {},
   "source": [
    "## 5. Search for Hotels\n",
    "\n",
    "Now, let's search for hotels at the destination:"
   ]
  },
  {
   "cell_type": "code",
   "execution_count": null,
   "metadata": {},
   "outputs": [],
   "source": [
    "# Search for hotels\n",
    "print(f\"Searching for hotels in {destination} from {departure_date} to {return_date}...\")\n",
    "hotel_offers = hotel_api.search_hotels(\n",
    "    city_code=destination,\n",
    "    check_in_date=departure_date,\n",
    "    check_out_date=return_date,\n",
    "    adults=adults,\n",
    "    radius=5,\n",
    "    radius_unit=\"KM\",\n",
    "    currency=\"USD\",\n",
    "    max_results=5\n",
    ")\n",
    "\n",
    "# Display hotel offers\n",
    "print(f\"Found {len(hotel_offers)} hotel offers\")\n",
    "if hotel_offers:\n",
    "    # Parse hotel data into a DataFrame\n",
    "    hotels_df = data_processor.parse_hotel_data(hotel_offers)\n",
    "    hotels_df.head()"
   ]
  },
  {
   "cell_type": "markdown",
   "metadata": {},
   "source": [
    "## 6. Create Travel Packages\n",
    "\n",
    "Now, let's combine flights and hotels to create travel packages:"
   ]
  },
  {
   "cell_type": "code",
   "execution_count": null,
   "metadata": {},
   "outputs": [],
   "source": [
    "# Create travel packages\n",
    "print(\"Creating travel packages...\")\n",
    "packages = package_api.create_single_destination_package(\n",
    "    origin_location_code=origin,\n",
    "    destination_location_code=destination,\n",
    "    departure_date=departure_date,\n",
    "    return_date=return_date,\n",
    "    adults=adults,\n",
    "    children=children,\n",
    "    travel_class=travel_class,\n",
    "    currency_code=\"USD\",\n",
    "    max_flight_results=5,\n",
    "    max_hotel_results=5\n",
    ")\n",
    "\n",
    "# Display packages\n",
    "print(f\"Created {len(packages)} travel packages\")\n",
    "if packages:\n",
    "    # Parse package data into a DataFrame\n",
    "    packages_df = data_processor.parse_package_data(packages)\n",
    "    packages_df.head()"
   ]
  },
  {
   "cell_type": "markdown",
   "metadata": {},
   "source": [
    "## 7. Get AI-Powered Recommendations\n",
    "\n",
    "Now, let's use the travel agent to generate personalized recommendations based on the available packages:"
   ]
  },
  {
   "cell_type": "code",
   "execution_count": null,
   "metadata": {},
   "outputs": [],
   "source": [
    "# Generate recommendations\n",
    "if packages:\n",
    "    print(\"Generating recommendations...\")\n",
    "    recommendations = travel_agent.generate_travel_recommendations(packages[:3], criteria)\n",
    "    print(\"\\nRecommendations:\")\n",
    "    print(recommendations)"
   ]
  },
  {
   "cell_type": "markdown",
   "metadata": {},
   "source": [
    "## 8. View Package Details\n",
    "\n",
    "Let's view the details of a specific package:"
   ]
  },
  {
   "cell_type": "code",
   "execution_count": null,
   "metadata": {},
   "outputs": [],
   "source": [
    "# View package details\n",
    "if packages:\n",
    "    package_id = 0  # View the first package\n",
    "    print(f\"Viewing details for package {package_id}...\")\n",
    "    package_details = travel_agent.format_package_details(packages[package_id], detailed=True)\n",
    "    print(\"\\nPackage Details:\")\n",
    "    print(package_details)"
   ]
  },
  {
   "cell_type": "markdown",
   "metadata": {},
   "source": [
    "## 9. Ask Travel-Related Questions\n",
    "\n",
    "Finally, let's ask the travel agent some questions:"
   ]
  },
  {
   "cell_type": "code",
   "execution_count": null,
   "metadata": {},
   "outputs": [],
   "source": [
    "# Ask a question\n",
    "question = \"What's the best time to visit Paris?\"\n",
    "print(f\"Question: {question}\")\n",
    "\n",
    "# Prepare context with current search results and criteria\n",
    "context = {\n",
    "    'current_criteria': criteria,\n",
    "    'has_search_results': len(packages) > 0,\n",
    "    'number_of_packages': len(packages) if packages else 0,\n",
    "    'price_range': {\n",
    "        'min': min([p['total_price'] for p in packages]) if packages else None,\n",
    "        'max': max([p['total_price'] for p in packages]) if packages else None,\n",
    "        'currency': packages[0]['currency'] if packages else None\n",
    "    }\n",
    "}\n",
    "\n",
    "# Get answer from agent\n",
    "answer = travel_agent.answer_travel_question(question, context)\n",
    "print(\"\\nAnswer:\")\n",
    "print(answer)"
   ]
  },
  {
   "cell_type": "markdown",
   "metadata": {},
   "source": [
    "## 10. Launch Gradio Web Interface\n",
    "\n",
    "If you want to use the web interface instead of the notebook, you can launch the Gradio app:"
   ]
  },
  {
   "cell_type": "code",
   "execution_count": null,
   "metadata": {},
   "outputs": [],
   "source": [
    "from frontend.app import app as gradio_app\n",
    "\n",
    "# Launch the app\n",
    "gradio_app.launch()"
   ]
  }
 ],
 "metadata": {
  "kernelspec": {
   "display_name": "Python 3",
   "language": "python",
   "name": "python3"
  },
  "language_info": {
   "codemirror_mode": {
    "name": "ipython",
    "version": 3
   },
   "file_extension": ".py",
   "mimetype": "text/x-python",
   "name": "python",
   "nbconvert_exporter": "python",
   "pygments_lexer": "ipython3",
   "version": "3.9.18"
  }
 },
 "nbformat": 4,
 "nbformat_minor": 4
}
